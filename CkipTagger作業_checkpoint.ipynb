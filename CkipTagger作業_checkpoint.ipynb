{
  "nbformat": 4,
  "nbformat_minor": 0,
  "metadata": {
    "kernelspec": {
      "name": "python3",
      "display_name": "Python 3"
    },
    "colab": {
      "name": "CkipTagger作業-checkpoint.ipynb",
      "provenance": [],
      "include_colab_link": true
    }
  },
  "cells": [
    {
      "cell_type": "markdown",
      "metadata": {
        "id": "view-in-github",
        "colab_type": "text"
      },
      "source": [
        "<a href=\"https://colab.research.google.com/github/kassy75035/NLP_part1/blob/main/CkipTagger%E4%BD%9C%E6%A5%AD_checkpoint.ipynb\" target=\"_parent\"><img src=\"https://colab.research.google.com/assets/colab-badge.svg\" alt=\"Open In Colab\"/></a>"
      ]
    },
    {
      "cell_type": "markdown",
      "metadata": {
        "id": "0G-JEqIVEhht"
      },
      "source": [
        "### 作業目標: 使用Jieba進行各項的斷詞操作"
      ]
    },
    {
      "cell_type": "markdown",
      "metadata": {
        "id": "R410PcAcEhh-"
      },
      "source": [
        "### Import 所需 libraries"
      ]
    },
    {
      "cell_type": "code",
      "metadata": {
        "colab": {
          "base_uri": "https://localhost:8080/"
        },
        "id": "eehpBvqxE49v",
        "outputId": "f6ed80cf-6b47-4615-cf64-7d6bb2ba4481"
      },
      "source": [
        "pip install -U ckiptagger[tf,gdown]"
      ],
      "execution_count": 3,
      "outputs": [
        {
          "output_type": "stream",
          "text": [
            "Collecting ckiptagger[gdown,tf]\n",
            "  Downloading https://files.pythonhosted.org/packages/6b/bc/5cbf8d019167d5e5e1775069fb8b71a08691ab847e2926bbe7dee9a19010/ckiptagger-0.2.1-py3-none-any.whl\n",
            "Requirement already satisfied, skipping upgrade: gdown; extra == \"gdown\" in /usr/local/lib/python3.6/dist-packages (from ckiptagger[gdown,tf]) (3.6.4)\n",
            "Requirement already satisfied, skipping upgrade: tensorflow>=1.13.1; extra == \"tf\" in /usr/local/lib/python3.6/dist-packages (from ckiptagger[gdown,tf]) (2.4.0)\n",
            "Requirement already satisfied, skipping upgrade: tqdm in /usr/local/lib/python3.6/dist-packages (from gdown; extra == \"gdown\"->ckiptagger[gdown,tf]) (4.41.1)\n",
            "Requirement already satisfied, skipping upgrade: requests in /usr/local/lib/python3.6/dist-packages (from gdown; extra == \"gdown\"->ckiptagger[gdown,tf]) (2.23.0)\n",
            "Requirement already satisfied, skipping upgrade: six in /usr/local/lib/python3.6/dist-packages (from gdown; extra == \"gdown\"->ckiptagger[gdown,tf]) (1.15.0)\n",
            "Requirement already satisfied, skipping upgrade: numpy~=1.19.2 in /usr/local/lib/python3.6/dist-packages (from tensorflow>=1.13.1; extra == \"tf\"->ckiptagger[gdown,tf]) (1.19.5)\n",
            "Requirement already satisfied, skipping upgrade: keras-preprocessing~=1.1.2 in /usr/local/lib/python3.6/dist-packages (from tensorflow>=1.13.1; extra == \"tf\"->ckiptagger[gdown,tf]) (1.1.2)\n",
            "Requirement already satisfied, skipping upgrade: tensorflow-estimator<2.5.0,>=2.4.0rc0 in /usr/local/lib/python3.6/dist-packages (from tensorflow>=1.13.1; extra == \"tf\"->ckiptagger[gdown,tf]) (2.4.0)\n",
            "Requirement already satisfied, skipping upgrade: grpcio~=1.32.0 in /usr/local/lib/python3.6/dist-packages (from tensorflow>=1.13.1; extra == \"tf\"->ckiptagger[gdown,tf]) (1.32.0)\n",
            "Requirement already satisfied, skipping upgrade: opt-einsum~=3.3.0 in /usr/local/lib/python3.6/dist-packages (from tensorflow>=1.13.1; extra == \"tf\"->ckiptagger[gdown,tf]) (3.3.0)\n",
            "Requirement already satisfied, skipping upgrade: google-pasta~=0.2 in /usr/local/lib/python3.6/dist-packages (from tensorflow>=1.13.1; extra == \"tf\"->ckiptagger[gdown,tf]) (0.2.0)\n",
            "Requirement already satisfied, skipping upgrade: astunparse~=1.6.3 in /usr/local/lib/python3.6/dist-packages (from tensorflow>=1.13.1; extra == \"tf\"->ckiptagger[gdown,tf]) (1.6.3)\n",
            "Requirement already satisfied, skipping upgrade: wheel~=0.35 in /usr/local/lib/python3.6/dist-packages (from tensorflow>=1.13.1; extra == \"tf\"->ckiptagger[gdown,tf]) (0.36.2)\n",
            "Requirement already satisfied, skipping upgrade: gast==0.3.3 in /usr/local/lib/python3.6/dist-packages (from tensorflow>=1.13.1; extra == \"tf\"->ckiptagger[gdown,tf]) (0.3.3)\n",
            "Requirement already satisfied, skipping upgrade: h5py~=2.10.0 in /usr/local/lib/python3.6/dist-packages (from tensorflow>=1.13.1; extra == \"tf\"->ckiptagger[gdown,tf]) (2.10.0)\n",
            "Requirement already satisfied, skipping upgrade: termcolor~=1.1.0 in /usr/local/lib/python3.6/dist-packages (from tensorflow>=1.13.1; extra == \"tf\"->ckiptagger[gdown,tf]) (1.1.0)\n",
            "Requirement already satisfied, skipping upgrade: wrapt~=1.12.1 in /usr/local/lib/python3.6/dist-packages (from tensorflow>=1.13.1; extra == \"tf\"->ckiptagger[gdown,tf]) (1.12.1)\n",
            "Requirement already satisfied, skipping upgrade: flatbuffers~=1.12.0 in /usr/local/lib/python3.6/dist-packages (from tensorflow>=1.13.1; extra == \"tf\"->ckiptagger[gdown,tf]) (1.12)\n",
            "Requirement already satisfied, skipping upgrade: absl-py~=0.10 in /usr/local/lib/python3.6/dist-packages (from tensorflow>=1.13.1; extra == \"tf\"->ckiptagger[gdown,tf]) (0.10.0)\n",
            "Requirement already satisfied, skipping upgrade: typing-extensions~=3.7.4 in /usr/local/lib/python3.6/dist-packages (from tensorflow>=1.13.1; extra == \"tf\"->ckiptagger[gdown,tf]) (3.7.4.3)\n",
            "Requirement already satisfied, skipping upgrade: protobuf>=3.9.2 in /usr/local/lib/python3.6/dist-packages (from tensorflow>=1.13.1; extra == \"tf\"->ckiptagger[gdown,tf]) (3.12.4)\n",
            "Requirement already satisfied, skipping upgrade: tensorboard~=2.4 in /usr/local/lib/python3.6/dist-packages (from tensorflow>=1.13.1; extra == \"tf\"->ckiptagger[gdown,tf]) (2.4.0)\n",
            "Requirement already satisfied, skipping upgrade: chardet<4,>=3.0.2 in /usr/local/lib/python3.6/dist-packages (from requests->gdown; extra == \"gdown\"->ckiptagger[gdown,tf]) (3.0.4)\n",
            "Requirement already satisfied, skipping upgrade: idna<3,>=2.5 in /usr/local/lib/python3.6/dist-packages (from requests->gdown; extra == \"gdown\"->ckiptagger[gdown,tf]) (2.10)\n",
            "Requirement already satisfied, skipping upgrade: urllib3!=1.25.0,!=1.25.1,<1.26,>=1.21.1 in /usr/local/lib/python3.6/dist-packages (from requests->gdown; extra == \"gdown\"->ckiptagger[gdown,tf]) (1.24.3)\n",
            "Requirement already satisfied, skipping upgrade: certifi>=2017.4.17 in /usr/local/lib/python3.6/dist-packages (from requests->gdown; extra == \"gdown\"->ckiptagger[gdown,tf]) (2020.12.5)\n",
            "Requirement already satisfied, skipping upgrade: setuptools in /usr/local/lib/python3.6/dist-packages (from protobuf>=3.9.2->tensorflow>=1.13.1; extra == \"tf\"->ckiptagger[gdown,tf]) (51.1.1)\n",
            "Requirement already satisfied, skipping upgrade: tensorboard-plugin-wit>=1.6.0 in /usr/local/lib/python3.6/dist-packages (from tensorboard~=2.4->tensorflow>=1.13.1; extra == \"tf\"->ckiptagger[gdown,tf]) (1.7.0)\n",
            "Requirement already satisfied, skipping upgrade: markdown>=2.6.8 in /usr/local/lib/python3.6/dist-packages (from tensorboard~=2.4->tensorflow>=1.13.1; extra == \"tf\"->ckiptagger[gdown,tf]) (3.3.3)\n",
            "Requirement already satisfied, skipping upgrade: google-auth<2,>=1.6.3 in /usr/local/lib/python3.6/dist-packages (from tensorboard~=2.4->tensorflow>=1.13.1; extra == \"tf\"->ckiptagger[gdown,tf]) (1.17.2)\n",
            "Requirement already satisfied, skipping upgrade: google-auth-oauthlib<0.5,>=0.4.1 in /usr/local/lib/python3.6/dist-packages (from tensorboard~=2.4->tensorflow>=1.13.1; extra == \"tf\"->ckiptagger[gdown,tf]) (0.4.2)\n",
            "Requirement already satisfied, skipping upgrade: werkzeug>=0.11.15 in /usr/local/lib/python3.6/dist-packages (from tensorboard~=2.4->tensorflow>=1.13.1; extra == \"tf\"->ckiptagger[gdown,tf]) (1.0.1)\n",
            "Requirement already satisfied, skipping upgrade: importlib-metadata; python_version < \"3.8\" in /usr/local/lib/python3.6/dist-packages (from markdown>=2.6.8->tensorboard~=2.4->tensorflow>=1.13.1; extra == \"tf\"->ckiptagger[gdown,tf]) (3.3.0)\n",
            "Requirement already satisfied, skipping upgrade: cachetools<5.0,>=2.0.0 in /usr/local/lib/python3.6/dist-packages (from google-auth<2,>=1.6.3->tensorboard~=2.4->tensorflow>=1.13.1; extra == \"tf\"->ckiptagger[gdown,tf]) (4.2.0)\n",
            "Requirement already satisfied, skipping upgrade: pyasn1-modules>=0.2.1 in /usr/local/lib/python3.6/dist-packages (from google-auth<2,>=1.6.3->tensorboard~=2.4->tensorflow>=1.13.1; extra == \"tf\"->ckiptagger[gdown,tf]) (0.2.8)\n",
            "Requirement already satisfied, skipping upgrade: rsa<5,>=3.1.4; python_version >= \"3\" in /usr/local/lib/python3.6/dist-packages (from google-auth<2,>=1.6.3->tensorboard~=2.4->tensorflow>=1.13.1; extra == \"tf\"->ckiptagger[gdown,tf]) (4.6)\n",
            "Requirement already satisfied, skipping upgrade: requests-oauthlib>=0.7.0 in /usr/local/lib/python3.6/dist-packages (from google-auth-oauthlib<0.5,>=0.4.1->tensorboard~=2.4->tensorflow>=1.13.1; extra == \"tf\"->ckiptagger[gdown,tf]) (1.3.0)\n",
            "Requirement already satisfied, skipping upgrade: zipp>=0.5 in /usr/local/lib/python3.6/dist-packages (from importlib-metadata; python_version < \"3.8\"->markdown>=2.6.8->tensorboard~=2.4->tensorflow>=1.13.1; extra == \"tf\"->ckiptagger[gdown,tf]) (3.4.0)\n",
            "Requirement already satisfied, skipping upgrade: pyasn1<0.5.0,>=0.4.6 in /usr/local/lib/python3.6/dist-packages (from pyasn1-modules>=0.2.1->google-auth<2,>=1.6.3->tensorboard~=2.4->tensorflow>=1.13.1; extra == \"tf\"->ckiptagger[gdown,tf]) (0.4.8)\n",
            "Requirement already satisfied, skipping upgrade: oauthlib>=3.0.0 in /usr/local/lib/python3.6/dist-packages (from requests-oauthlib>=0.7.0->google-auth-oauthlib<0.5,>=0.4.1->tensorboard~=2.4->tensorflow>=1.13.1; extra == \"tf\"->ckiptagger[gdown,tf]) (3.1.0)\n",
            "Installing collected packages: ckiptagger\n",
            "Successfully installed ckiptagger-0.2.1\n"
          ],
          "name": "stdout"
        }
      ]
    },
    {
      "cell_type": "code",
      "metadata": {
        "colab": {
          "base_uri": "https://localhost:8080/"
        },
        "id": "-jbtXcvNFDHB",
        "outputId": "2de5fb76-a374-4c55-8bb8-c97238201f27"
      },
      "source": [
        "from google.colab import files\r\n",
        "from google.colab import drive\r\n",
        "drive.mount('/content/gdrive')"
      ],
      "execution_count": 1,
      "outputs": [
        {
          "output_type": "stream",
          "text": [
            "Mounted at /content/gdrive\n"
          ],
          "name": "stdout"
        }
      ]
    },
    {
      "cell_type": "code",
      "metadata": {
        "id": "6k3SHNFPEhh_"
      },
      "source": [
        "#導入所需libraries\n",
        "#請import 1.可用於下載權重的library 2.建構自定義字典的library 3.斷詞, 詞性標注,與命名實體辨識libries\n",
        "###<your code>###\n",
        "from ckiptagger import WS, POS, NER\n",
        "import numpy as np\n",
        "# 使用Ckiptagger進行斷詞\n",
        "# char_token_list = np.load('/content/gdrive/My Drive/Colab Notebooks/NLP/D07data/embedding_character/token_list.npy') #讀入character list\n",
        "# char_vector_list = np.load('/content/gdrive/My Drive/Colab Notebooks/NLP/D07data/embedding_character/vector_list.npy') #讀入character 的向量list\n",
        "\n",
        "#請對下列文本字串進行斷詞, 詞性標注, 命名實體識別\n",
        "\n",
        "sentence_list = [\n",
        "    \"傅達仁今將執行安樂死，卻突然爆出自己20年前遭緯來體育台封殺，他不懂自己哪裡得罪到電視台。\",\n",
        "    \"美國參議院針對今天總統布什所提名的勞工部長趙小蘭展開認可聽證會，預料她將會很順利通過參議院支持，成為該國有史以來第一位的華裔女性內閣成員。\",\n",
        "    \"\",\n",
        "    \"土地公有政策?？還是土地婆有政策。.\",\n",
        "    \"… 你確定嗎… 不要再騙了……\",\n",
        "    \"最多容納59,000個人,或5.9萬人,再多就不行了.這是環評的結論.\",\n",
        "    \"科長說:1,坪數對人數為1:3。2,可以再增加。\",\n",
        "]\n",
        "\n"
      ],
      "execution_count": 13,
      "outputs": []
    },
    {
      "cell_type": "markdown",
      "metadata": {
        "id": "w5lpXDY1EhiB"
      },
      "source": [
        "### 進行斷詞, 詞性標注, 與命名實體識別"
      ]
    },
    {
      "cell_type": "code",
      "metadata": {
        "scrolled": true,
        "id": "2ncNuIEvEhiC",
        "colab": {
          "base_uri": "https://localhost:8080/"
        },
        "outputId": "de463c62-d2e9-4486-f50a-6616c43e7070"
      },
      "source": [
        "#創建實例\n",
        "###<your code>###\n",
        "ws = WS(\"/content/gdrive/My Drive/Colab Notebooks/NLP/D07data\") #建構斷詞\n",
        "#斷詞\n",
        "###<your code>###\n",
        "word_s = ws(\n",
        "    sentence_list,\n",
        "    sentence_segmentation = True,\n",
        "    segment_delimiter_set = {\",\", \"。\", \":\", \"?\", \"!\", \";\"} # This is the defualt set of delimiters\n",
        ")\n",
        "\n",
        "print(f'斷詞輸出: {word_s}')\n",
        "print('\\n')\n",
        "\n",
        "#詞性標注\n",
        "###<your code>###\n",
        "pos = POS(\"/content/gdrive/My Drive/Colab Notebooks/NLP/D07data\")\n",
        "word_p = pos(word_s)\n",
        "print(f'詞性標注輸出: {word_p}')\n",
        "print('\\n')\n",
        "\n",
        "#命名實體識別\n",
        "###<your code>###\n",
        "ner = NER(\"/content/gdrive/My Drive/Colab Notebooks/NLP/D07data\")\n",
        "word_n = ner(word_s, word_p)\n",
        "print(f'命名實體識別輸出: {word_n}')"
      ],
      "execution_count": 15,
      "outputs": [
        {
          "output_type": "stream",
          "text": [
            "/usr/local/lib/python3.6/dist-packages/tensorflow/python/keras/layers/legacy_rnn/rnn_cell_impl.py:903: UserWarning: `tf.nn.rnn_cell.LSTMCell` is deprecated and will be removed in a future version. This class is equivalent as `tf.keras.layers.LSTMCell`, and will be replaced by that in Tensorflow 2.0.\n",
            "  warnings.warn(\"`tf.nn.rnn_cell.LSTMCell` is deprecated and will be \"\n",
            "/usr/local/lib/python3.6/dist-packages/tensorflow/python/keras/engine/base_layer_v1.py:1727: UserWarning: `layer.add_variable` is deprecated and will be removed in a future version. Please use `layer.add_weight` method instead.\n",
            "  warnings.warn('`layer.add_variable` is deprecated and '\n"
          ],
          "name": "stderr"
        },
        {
          "output_type": "stream",
          "text": [
            "斷詞輸出: [['傅達仁', '今', '將', '執行', '安樂死', '，', '卻', '突然', '爆出', '自己', '20', '年', '前', '遭', '緯來', '體育台', '封殺', '，', '他', '不', '懂', '自己', '哪裡', '得罪到', '電視台', '。'], ['美國', '參議院', '針對', '今天', '總統', '布什', '所', '提名', '的', '勞工部長', '趙小蘭', '展開', '認可', '聽證會', '，', '預料', '她', '將', '會', '很', '順利', '通過', '參議院', '支持', '，', '成為', '該', '國', '有史以來', '第一', '位', '的', '華裔', '女性', '內閣', '成員', '。'], [], ['土地公', '有', '政策', '?', '？', '還是', '土地', '婆', '有', '政策', '。', '.'], ['…', ' ', '你', '確定', '嗎', '…', ' ', '不要', '再', '騙', '了', '…', '…'], ['最多', '容納', '59', ',', '000', '個', '人', ',', '或', '5.9萬', '人', ',', '再', '多', '就', '不行', '了', '.', '這', '是', '環評', '的', '結論', '.'], ['科長', '說', ':', '1', ',', '坪數', '對', '人數', '為', '1', ':', '3', '。', '2', ',', '可以', '再', '增加', '。']]\n",
            "\n",
            "\n"
          ],
          "name": "stdout"
        },
        {
          "output_type": "stream",
          "text": [
            "Exception ignored in: <bound method NER.__del__ of <ckiptagger.api.NER object at 0x7f81e8775198>>\n",
            "Traceback (most recent call last):\n",
            "  File \"/usr/local/lib/python3.6/dist-packages/ckiptagger/api.py\", line 287, in __del__\n",
            "    self.model.sess.close()\n",
            "AttributeError: 'NER' object has no attribute 'model'\n"
          ],
          "name": "stderr"
        },
        {
          "output_type": "stream",
          "text": [
            "詞性標注輸出: [['Nb', 'Nd', 'D', 'VC', 'Na', 'COMMACATEGORY', 'D', 'D', 'VJ', 'Nh', 'Neu', 'Nf', 'Ng', 'P', 'Nb', 'Na', 'VC', 'COMMACATEGORY', 'Nh', 'D', 'VK', 'Nh', 'Ncd', 'VJ', 'Nc', 'PERIODCATEGORY'], ['Nc', 'Nc', 'P', 'Nd', 'Na', 'Nb', 'D', 'VC', 'DE', 'Na', 'Nb', 'VC', 'VC', 'Na', 'COMMACATEGORY', 'VE', 'Nh', 'D', 'D', 'Dfa', 'VH', 'VC', 'Nc', 'VC', 'COMMACATEGORY', 'VG', 'Nes', 'Nc', 'D', 'Neu', 'Nf', 'DE', 'Na', 'Na', 'Na', 'Na', 'PERIODCATEGORY'], [], ['Nb', 'V_2', 'Na', 'QUESTIONCATEGORY', 'QUESTIONCATEGORY', 'Caa', 'Na', 'Na', 'V_2', 'Na', 'PERIODCATEGORY', 'PERIODCATEGORY'], ['ETCCATEGORY', 'WHITESPACE', 'Nh', 'VK', 'T', 'ETCCATEGORY', 'WHITESPACE', 'D', 'D', 'VC', 'Di', 'ETCCATEGORY', 'ETCCATEGORY'], ['VH', 'VJ', 'Neu', 'COMMACATEGORY', 'Neu', 'Nf', 'Na', 'COMMACATEGORY', 'Caa', 'Neu', 'Na', 'COMMACATEGORY', 'D', 'D', 'D', 'VH', 'T', 'PERIODCATEGORY', 'Nep', 'SHI', 'Na', 'DE', 'Na', 'PERIODCATEGORY'], ['Na', 'VE', 'COLONCATEGORY', 'Neu', 'COMMACATEGORY', 'Na', 'P', 'Na', 'VG', 'Neu', 'COLONCATEGORY', 'Neu', 'PERIODCATEGORY', 'Neu', 'COMMACATEGORY', 'D', 'D', 'VHC', 'PERIODCATEGORY']]\n",
            "\n",
            "\n",
            "命名實體識別輸出: [{(23, 28, 'ORG', '緯來體育台'), (0, 3, 'PERSON', '傅達仁'), (18, 22, 'DATE', '20年前')}, {(2, 5, 'ORG', '參議院'), (56, 58, 'ORDINAL', '第一'), (0, 2, 'GPE', '美國'), (7, 9, 'DATE', '今天'), (42, 45, 'ORG', '參議院'), (60, 62, 'NORP', '華裔'), (11, 13, 'PERSON', '布什'), (17, 21, 'ORG', '勞工部長'), (21, 24, 'PERSON', '趙小蘭')}, set(), {(0, 3, 'PERSON', '土地公')}, set(), {(7, 10, 'CARDINAL', '000'), (4, 6, 'CARDINAL', '59'), (14, 18, 'CARDINAL', '5.9萬')}, {(4, 5, 'CARDINAL', '1'), (12, 13, 'CARDINAL', '1'), (14, 15, 'CARDINAL', '3'), (16, 17, 'CARDINAL', '2')}]\n"
          ],
          "name": "stdout"
        }
      ]
    },
    {
      "cell_type": "code",
      "metadata": {
        "id": "w27T-C4KEhiE",
        "colab": {
          "base_uri": "https://localhost:8080/"
        },
        "outputId": "d501f288-b639-443f-a866-1b621af1c6de"
      },
      "source": [
        "#合併顯示輸出結果\n",
        "def combine_wandp(word_s, word_p):\n",
        "    assert len(word_s) == len(word_p)\n",
        "    \n",
        "    ###<your code>###\n",
        "    for i, word in enumerate(word_s):\n",
        "      print(f'{word}({word_p[i]})')\n",
        "        \n",
        "for i, sentence in enumerate(sentence_list):\n",
        "    print(f'Input sentence: \\n {sentence}')\n",
        "    print('\\n')\n",
        "    \n",
        "    print(f'Segmentation with PoS: \\n')\n",
        "    ###<your code>##\n",
        "    combine_wandp(word_s[i], word_p[i])\n",
        "    \n",
        "    print ('\\n')\n",
        "    print('Named Entity Recognition:')\n",
        "    for n in sorted(word_n[i]):\n",
        "        print (n)\n",
        "    print ('\\n')\n"
      ],
      "execution_count": 18,
      "outputs": [
        {
          "output_type": "stream",
          "text": [
            "Input sentence: \n",
            " 傅達仁今將執行安樂死，卻突然爆出自己20年前遭緯來體育台封殺，他不懂自己哪裡得罪到電視台。\n",
            "\n",
            "\n",
            "Segmentation with PoS: \n",
            "\n",
            "傅達仁(Nb)\n",
            "今(Nd)\n",
            "將(D)\n",
            "執行(VC)\n",
            "安樂死(Na)\n",
            "，(COMMACATEGORY)\n",
            "卻(D)\n",
            "突然(D)\n",
            "爆出(VJ)\n",
            "自己(Nh)\n",
            "20(Neu)\n",
            "年(Nf)\n",
            "前(Ng)\n",
            "遭(P)\n",
            "緯來(Nb)\n",
            "體育台(Na)\n",
            "封殺(VC)\n",
            "，(COMMACATEGORY)\n",
            "他(Nh)\n",
            "不(D)\n",
            "懂(VK)\n",
            "自己(Nh)\n",
            "哪裡(Ncd)\n",
            "得罪到(VJ)\n",
            "電視台(Nc)\n",
            "。(PERIODCATEGORY)\n",
            "\n",
            "\n",
            "Named Entity Recognition:\n",
            "(0, 3, 'PERSON', '傅達仁')\n",
            "(18, 22, 'DATE', '20年前')\n",
            "(23, 28, 'ORG', '緯來體育台')\n",
            "\n",
            "\n",
            "Input sentence: \n",
            " 美國參議院針對今天總統布什所提名的勞工部長趙小蘭展開認可聽證會，預料她將會很順利通過參議院支持，成為該國有史以來第一位的華裔女性內閣成員。\n",
            "\n",
            "\n",
            "Segmentation with PoS: \n",
            "\n",
            "美國(Nc)\n",
            "參議院(Nc)\n",
            "針對(P)\n",
            "今天(Nd)\n",
            "總統(Na)\n",
            "布什(Nb)\n",
            "所(D)\n",
            "提名(VC)\n",
            "的(DE)\n",
            "勞工部長(Na)\n",
            "趙小蘭(Nb)\n",
            "展開(VC)\n",
            "認可(VC)\n",
            "聽證會(Na)\n",
            "，(COMMACATEGORY)\n",
            "預料(VE)\n",
            "她(Nh)\n",
            "將(D)\n",
            "會(D)\n",
            "很(Dfa)\n",
            "順利(VH)\n",
            "通過(VC)\n",
            "參議院(Nc)\n",
            "支持(VC)\n",
            "，(COMMACATEGORY)\n",
            "成為(VG)\n",
            "該(Nes)\n",
            "國(Nc)\n",
            "有史以來(D)\n",
            "第一(Neu)\n",
            "位(Nf)\n",
            "的(DE)\n",
            "華裔(Na)\n",
            "女性(Na)\n",
            "內閣(Na)\n",
            "成員(Na)\n",
            "。(PERIODCATEGORY)\n",
            "\n",
            "\n",
            "Named Entity Recognition:\n",
            "(0, 2, 'GPE', '美國')\n",
            "(2, 5, 'ORG', '參議院')\n",
            "(7, 9, 'DATE', '今天')\n",
            "(11, 13, 'PERSON', '布什')\n",
            "(17, 21, 'ORG', '勞工部長')\n",
            "(21, 24, 'PERSON', '趙小蘭')\n",
            "(42, 45, 'ORG', '參議院')\n",
            "(56, 58, 'ORDINAL', '第一')\n",
            "(60, 62, 'NORP', '華裔')\n",
            "\n",
            "\n",
            "Input sentence: \n",
            " \n",
            "\n",
            "\n",
            "Segmentation with PoS: \n",
            "\n",
            "\n",
            "\n",
            "Named Entity Recognition:\n",
            "\n",
            "\n",
            "Input sentence: \n",
            " 土地公有政策?？還是土地婆有政策。.\n",
            "\n",
            "\n",
            "Segmentation with PoS: \n",
            "\n",
            "土地公(Nb)\n",
            "有(V_2)\n",
            "政策(Na)\n",
            "?(QUESTIONCATEGORY)\n",
            "？(QUESTIONCATEGORY)\n",
            "還是(Caa)\n",
            "土地(Na)\n",
            "婆(Na)\n",
            "有(V_2)\n",
            "政策(Na)\n",
            "。(PERIODCATEGORY)\n",
            ".(PERIODCATEGORY)\n",
            "\n",
            "\n",
            "Named Entity Recognition:\n",
            "(0, 3, 'PERSON', '土地公')\n",
            "\n",
            "\n",
            "Input sentence: \n",
            " … 你確定嗎… 不要再騙了……\n",
            "\n",
            "\n",
            "Segmentation with PoS: \n",
            "\n",
            "…(ETCCATEGORY)\n",
            " (WHITESPACE)\n",
            "你(Nh)\n",
            "確定(VK)\n",
            "嗎(T)\n",
            "…(ETCCATEGORY)\n",
            " (WHITESPACE)\n",
            "不要(D)\n",
            "再(D)\n",
            "騙(VC)\n",
            "了(Di)\n",
            "…(ETCCATEGORY)\n",
            "…(ETCCATEGORY)\n",
            "\n",
            "\n",
            "Named Entity Recognition:\n",
            "\n",
            "\n",
            "Input sentence: \n",
            " 最多容納59,000個人,或5.9萬人,再多就不行了.這是環評的結論.\n",
            "\n",
            "\n",
            "Segmentation with PoS: \n",
            "\n",
            "最多(VH)\n",
            "容納(VJ)\n",
            "59(Neu)\n",
            ",(COMMACATEGORY)\n",
            "000(Neu)\n",
            "個(Nf)\n",
            "人(Na)\n",
            ",(COMMACATEGORY)\n",
            "或(Caa)\n",
            "5.9萬(Neu)\n",
            "人(Na)\n",
            ",(COMMACATEGORY)\n",
            "再(D)\n",
            "多(D)\n",
            "就(D)\n",
            "不行(VH)\n",
            "了(T)\n",
            ".(PERIODCATEGORY)\n",
            "這(Nep)\n",
            "是(SHI)\n",
            "環評(Na)\n",
            "的(DE)\n",
            "結論(Na)\n",
            ".(PERIODCATEGORY)\n",
            "\n",
            "\n",
            "Named Entity Recognition:\n",
            "(4, 6, 'CARDINAL', '59')\n",
            "(7, 10, 'CARDINAL', '000')\n",
            "(14, 18, 'CARDINAL', '5.9萬')\n",
            "\n",
            "\n",
            "Input sentence: \n",
            " 科長說:1,坪數對人數為1:3。2,可以再增加。\n",
            "\n",
            "\n",
            "Segmentation with PoS: \n",
            "\n",
            "科長(Na)\n",
            "說(VE)\n",
            ":(COLONCATEGORY)\n",
            "1(Neu)\n",
            ",(COMMACATEGORY)\n",
            "坪數(Na)\n",
            "對(P)\n",
            "人數(Na)\n",
            "為(VG)\n",
            "1(Neu)\n",
            ":(COLONCATEGORY)\n",
            "3(Neu)\n",
            "。(PERIODCATEGORY)\n",
            "2(Neu)\n",
            ",(COMMACATEGORY)\n",
            "可以(D)\n",
            "再(D)\n",
            "增加(VHC)\n",
            "。(PERIODCATEGORY)\n",
            "\n",
            "\n",
            "Named Entity Recognition:\n",
            "(4, 5, 'CARDINAL', '1')\n",
            "(12, 13, 'CARDINAL', '1')\n",
            "(14, 15, 'CARDINAL', '3')\n",
            "(16, 17, 'CARDINAL', '2')\n",
            "\n",
            "\n"
          ],
          "name": "stdout"
        }
      ]
    },
    {
      "cell_type": "markdown",
      "metadata": {
        "id": "al4cViwVEhiF"
      },
      "source": [
        "### 帶入自定義字典\n",
        "\n",
        "觀察上面的輸出發現，斷詞結果將`年前`斷為`年`、`前`, 請使用自定義字典使斷詞結果依然維持為`年前`"
      ]
    },
    {
      "cell_type": "code",
      "metadata": {
        "id": "n3NqLsOjEhiG",
        "colab": {
          "base_uri": "https://localhost:8080/"
        },
        "outputId": "edab8957-8613-46e7-dde9-7b8eb123bb65"
      },
      "source": [
        "#定義字典\n",
        "###<your code>###\n",
        "from ckiptagger import construct_dictionary\n",
        "#帶入自定義字典進行斷詞\n",
        "word_to_weight ={\n",
        "    \"年前\": 1\n",
        "}\n",
        "dictionary = construct_dictionary(word_to_weight)\n",
        "ws = WS(\"/content/gdrive/My Drive/Colab Notebooks/NLP/D07data\") #建構斷詞\n",
        "\n",
        "input_traditional_str = [\"傅達仁今將執行安樂死，卻突然爆出自己20年前遭緯來體育台封殺，他不懂自己哪裡得罪到電視台。\"]\n",
        "\n",
        "###<your code>###\n",
        "word_sentence_list = ws(\n",
        "    input_traditional_str,\n",
        "    sentence_segmentation = True, # To consider delimiters\n",
        "    segment_delimiter_set = {\",\", \"。\", \":\", \"?\", \"!\", \";\"}, # This is the defualt set of delimiters\n",
        "    recommend_dictionary = dictionary, # words in this dictionary are encouraged\n",
        "    ) \n",
        "\n",
        "print(word_sentence_list)\n"
      ],
      "execution_count": 20,
      "outputs": [
        {
          "output_type": "stream",
          "text": [
            "/usr/local/lib/python3.6/dist-packages/tensorflow/python/keras/layers/legacy_rnn/rnn_cell_impl.py:903: UserWarning: `tf.nn.rnn_cell.LSTMCell` is deprecated and will be removed in a future version. This class is equivalent as `tf.keras.layers.LSTMCell`, and will be replaced by that in Tensorflow 2.0.\n",
            "  warnings.warn(\"`tf.nn.rnn_cell.LSTMCell` is deprecated and will be \"\n",
            "/usr/local/lib/python3.6/dist-packages/tensorflow/python/keras/engine/base_layer_v1.py:1727: UserWarning: `layer.add_variable` is deprecated and will be removed in a future version. Please use `layer.add_weight` method instead.\n",
            "  warnings.warn('`layer.add_variable` is deprecated and '\n",
            "Exception ignored in: <bound method POS.__del__ of <ckiptagger.api.POS object at 0x7f81d86cdc88>>\n",
            "Traceback (most recent call last):\n",
            "  File \"/usr/local/lib/python3.6/dist-packages/ckiptagger/api.py\", line 185, in __del__\n",
            "    self.model.sess.close()\n",
            "AttributeError: 'POS' object has no attribute 'model'\n"
          ],
          "name": "stderr"
        },
        {
          "output_type": "stream",
          "text": [
            "[['傅達仁', '今', '將', '執行', '安樂死', '，', '卻', '突然', '爆出', '自己', '20', '年前', '遭', '緯來', '體育台', '封殺', '，', '他', '不', '懂', '自己', '哪裡', '得罪到', '電視台', '。']]\n"
          ],
          "name": "stdout"
        }
      ]
    }
  ]
}