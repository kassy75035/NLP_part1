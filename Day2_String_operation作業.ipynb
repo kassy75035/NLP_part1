{
  "nbformat": 4,
  "nbformat_minor": 0,
  "metadata": {
    "kernelspec": {
      "display_name": "Python 3",
      "language": "python",
      "name": "python3"
    },
    "language_info": {
      "codemirror_mode": {
        "name": "ipython",
        "version": 3
      },
      "file_extension": ".py",
      "mimetype": "text/x-python",
      "name": "python",
      "nbconvert_exporter": "python",
      "pygments_lexer": "ipython3",
      "version": "3.7.4"
    },
    "colab": {
      "name": "Day2- String operation作業.ipynb",
      "provenance": [],
      "include_colab_link": true
    }
  },
  "cells": [
    {
      "cell_type": "markdown",
      "metadata": {
        "id": "view-in-github",
        "colab_type": "text"
      },
      "source": [
        "<a href=\"https://colab.research.google.com/github/kassy75035/NLP_part1/blob/main/Day2_String_operation%E4%BD%9C%E6%A5%AD.ipynb\" target=\"_parent\"><img src=\"https://colab.research.google.com/assets/colab-badge.svg\" alt=\"Open In Colab\"/></a>"
      ]
    },
    {
      "cell_type": "markdown",
      "metadata": {
        "id": "gl7f7Eh6eyB7"
      },
      "source": [
        "# 作業目標：運用課程所學，操作字串達到預期輸出"
      ]
    },
    {
      "cell_type": "markdown",
      "metadata": {
        "id": "-2UPFR9eeyCO"
      },
      "source": [
        "---"
      ]
    },
    {
      "cell_type": "markdown",
      "metadata": {
        "id": "68ecPGf4eyCP"
      },
      "source": [
        "### isnumeric(), isdigit(), isdecimal() 各有幾個"
      ]
    },
    {
      "cell_type": "code",
      "metadata": {
        "id": "oiKpqruUeyCQ"
      },
      "source": [
        "test_string = ['5.9', '30', '½', '³', '⑬']"
      ],
      "execution_count": 2,
      "outputs": []
    },
    {
      "cell_type": "code",
      "metadata": {
        "id": "ASU5lDkbeyCR"
      },
      "source": [
        "def spam(s, isnumeric_count, isdigit_count, isdecimal_count):\n",
        "  for attr in ['isnumeric', 'isdecimal', 'isdigit']:\n",
        "       pint(attr, getattr(s, attr)())"
      ],
      "execution_count": 8,
      "outputs": []
    },
    {
      "cell_type": "code",
      "metadata": {
        "colab": {
          "base_uri": "https://localhost:8080/"
        },
        "id": "XH1uEmdvflyy",
        "outputId": "225b2cc3-4e72-4ec2-f7c0-a837de140054"
      },
      "source": [
        "# isnumeric_count=test_string[0].isnumeric()\r\n",
        "# print(isnumeric_count)\r\n",
        "isnumeric_count = 0\r\n",
        "isdigit_count = 0\r\n",
        "isdecimal_count = 0\r\n",
        "for string in test_string:\r\n",
        "  if string.isnumeric():\r\n",
        "    isnumeric_count += 1\r\n",
        "  if string.isdigit():\r\n",
        "    isdigit_count += 1\r\n",
        "  if string.isdecimal():\r\n",
        "    isdecimal_count += 1\r\n",
        "\r\n",
        "print(isnumeric_count, isdigit_count,isdecimal_count)"
      ],
      "execution_count": 14,
      "outputs": [
        {
          "output_type": "stream",
          "text": [
            "4 2 1\n"
          ],
          "name": "stdout"
        }
      ]
    },
    {
      "cell_type": "code",
      "metadata": {
        "colab": {
          "base_uri": "https://localhost:8080/"
        },
        "id": "79wf-l2neyCS",
        "outputId": "9921d874-57b9-40b9-f3ce-022ddca2f296"
      },
      "source": [
        "print('isnumeric_count: {}'.format(isnumeric_count))     \n",
        "print('isdigit_count: {}'.format(isdigit_count))     \n",
        "print('isdecimal_count: {}'.format(isdecimal_count))  "
      ],
      "execution_count": 15,
      "outputs": [
        {
          "output_type": "stream",
          "text": [
            "isnumeric_count: 4\n",
            "isdigit_count: 2\n",
            "isdecimal_count: 1\n"
          ],
          "name": "stdout"
        }
      ]
    },
    {
      "cell_type": "markdown",
      "metadata": {
        "id": "NDuMmJ-VeyCV"
      },
      "source": [
        "---"
      ]
    },
    {
      "cell_type": "markdown",
      "metadata": {
        "id": "Pqlc26sFeyCV"
      },
      "source": [
        "## 運用formatting 技巧 output\n",
        "    * Accuracy: 98.13%, Recall: 94.88%, Precision: 96.29%"
      ]
    },
    {
      "cell_type": "code",
      "metadata": {
        "id": "IbqQ6E7neyCW"
      },
      "source": [
        "accuracy = 98.129393\n",
        "recall =   94.879583\n",
        "precision =96.294821"
      ],
      "execution_count": 16,
      "outputs": []
    },
    {
      "cell_type": "code",
      "metadata": {
        "colab": {
          "base_uri": "https://localhost:8080/"
        },
        "id": "FAxu68nceyCX",
        "outputId": "89b47e27-6d07-4b94-8049-5d078939f6a5"
      },
      "source": [
        "print('Accuracy: {:.2f}%, Recall: {:.2f}%, Precision: {:.2f}%'.format(accuracy, recall, precision))"
      ],
      "execution_count": 20,
      "outputs": [
        {
          "output_type": "stream",
          "text": [
            "Accuracy: 98.13%, Recall: 94.88%, Precision: 96.29%\n"
          ],
          "name": "stdout"
        }
      ]
    },
    {
      "cell_type": "code",
      "metadata": {
        "id": "lUS5p1JneyCY"
      },
      "source": [
        "accuracy = 0.98129393\n",
        "recall =   0.94879583\n",
        "precision =0.96294821"
      ],
      "execution_count": null,
      "outputs": []
    },
    {
      "cell_type": "code",
      "metadata": {
        "colab": {
          "base_uri": "https://localhost:8080/"
        },
        "id": "B06DcAfgeyCZ",
        "outputId": "052c5c33-3306-43b3-cee3-665583a4c42b"
      },
      "source": [
        "text = 'Accuracy: %.2f%%, Recall: %.2f%%, Precision: %.2f%%' % (accuracy, recall, precision)\r\n",
        "print(text)"
      ],
      "execution_count": 33,
      "outputs": [
        {
          "output_type": "stream",
          "text": [
            "Accuracy: 98.13%, Recall: 94.88%, Precision: 96.29%\n"
          ],
          "name": "stdout"
        }
      ]
    },
    {
      "cell_type": "markdown",
      "metadata": {
        "id": "3WAlcGgXeyCZ"
      },
      "source": [
        "---"
      ]
    },
    {
      "cell_type": "markdown",
      "metadata": {
        "id": "btRsLNzVeyCa"
      },
      "source": [
        "## 依照只是轉換number output format"
      ]
    },
    {
      "cell_type": "code",
      "metadata": {
        "id": "IPSyRdimeyCa"
      },
      "source": [
        "number = 3.1415926"
      ],
      "execution_count": 34,
      "outputs": []
    },
    {
      "cell_type": "markdown",
      "metadata": {
        "id": "BOoSzcNleyCb"
      },
      "source": [
        "#### 轉換為科學符號表示法 (小數點後兩位)"
      ]
    },
    {
      "cell_type": "code",
      "metadata": {
        "colab": {
          "base_uri": "https://localhost:8080/"
        },
        "id": "g_Us9JLQeyCd",
        "outputId": "cdd38041-3967-439b-b61e-f2ebcdb12375"
      },
      "source": [
        "print('{:.2e}'.format(number))"
      ],
      "execution_count": 45,
      "outputs": [
        {
          "output_type": "stream",
          "text": [
            "3.14e+00\n"
          ],
          "name": "stdout"
        }
      ]
    },
    {
      "cell_type": "markdown",
      "metadata": {
        "id": "HdRsCeFbeyCd"
      },
      "source": [
        "#### 轉換為%"
      ]
    },
    {
      "cell_type": "code",
      "metadata": {
        "colab": {
          "base_uri": "https://localhost:8080/"
        },
        "id": "D6isqs-peyCe",
        "outputId": "950d8794-08fd-427a-975e-a53c4bae7a0a"
      },
      "source": [
        "print('{:.2%}'.format(number))"
      ],
      "execution_count": 47,
      "outputs": [
        {
          "output_type": "stream",
          "text": [
            "314.16%\n"
          ],
          "name": "stdout"
        }
      ]
    },
    {
      "cell_type": "markdown",
      "metadata": {
        "id": "jPU30FJheyCf"
      },
      "source": [
        "#### 補零成為3.14159300"
      ]
    },
    {
      "cell_type": "code",
      "metadata": {
        "colab": {
          "base_uri": "https://localhost:8080/"
        },
        "id": "HsVvt4xTeyCf",
        "outputId": "12327740-a00c-4cf9-f8a2-19bff7a4e8fe"
      },
      "source": [
        "print('{:.6f}00'.format(number))"
      ],
      "execution_count": 56,
      "outputs": [
        {
          "output_type": "stream",
          "text": [
            "3.14159300\n"
          ],
          "name": "stdout"
        }
      ]
    }
  ]
}