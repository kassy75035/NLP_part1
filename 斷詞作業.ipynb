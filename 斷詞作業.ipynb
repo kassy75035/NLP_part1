{
  "nbformat": 4,
  "nbformat_minor": 0,
  "metadata": {
    "kernelspec": {
      "name": "python3",
      "display_name": "Python 3"
    },
    "colab": {
      "name": "斷詞作業.ipynb",
      "provenance": [],
      "include_colab_link": true
    }
  },
  "cells": [
    {
      "cell_type": "markdown",
      "metadata": {
        "id": "view-in-github",
        "colab_type": "text"
      },
      "source": [
        "<a href=\"https://colab.research.google.com/github/kassy75035/NLP_part1/blob/main/%E6%96%B7%E8%A9%9E%E4%BD%9C%E6%A5%AD.ipynb\" target=\"_parent\"><img src=\"https://colab.research.google.com/assets/colab-badge.svg\" alt=\"Open In Colab\"/></a>"
      ]
    },
    {
      "cell_type": "markdown",
      "metadata": {
        "id": "158I5yTqHoKt"
      },
      "source": [
        "## 作業目標: 了解斷詞演算法的背後計算"
      ]
    },
    {
      "cell_type": "markdown",
      "metadata": {
        "id": "ZXnoWLn3HoK1"
      },
      "source": [
        "### 根據課程講述的內容, 請計算出下列剩餘所有情況的\n",
        "若有一個人連續觀察到三天水草都是乾燥的(Dry), 則這三天的天氣機率為何？(可參考講義第13頁)\n",
        "(Hint: 共有8種可能機率)\n",
        "\n",
        "```python\n",
        "states = ('sunny', 'rainy')\n",
        "observations = ('dry', 'damp', 'soggy')\n",
        "start_probability = {'sunny': 0.4, 'rainy': 0.6}\n",
        "transition_probability = {'sunny':{'sunny':0.6, 'rainy':0.4},\n",
        "                          'rainy': {'sunny':0.3, 'rainy':0.7}}\n",
        "emission_probatility = {'sunny': {'dry':0.6, 'damp':0.3, 'soggy':0.1},\n",
        "                        'rainy': {'dry':0.1, 'damp':0.4, 'soggy':0.5}}\n",
        "```"
      ]
    },
    {
      "cell_type": "markdown",
      "metadata": {
        "id": "EvSKiI3wHoK2"
      },
      "source": [
        "```\n",
        "觀察狀態 = 'dry', 'dry', 'dry'\n",
        "Sunny, Sunny, Sunny: 0.4*(0.6)*0.6*(0.6)*0.6*(0.6) = 0.031104\n",
        "Rainy, Sunny, Sunny: 0.6*(0.1)*0.3*(0.6)*0.6*(0.6) = 0.003888\n",
        "###<your answers>###\n",
        "Sunny, Rainy, Sunny: 0.4*0.6*0.4*0.1*0.4*0.6 = 0.002304\n",
        "Sunny, Sunny, Rainy: 0.4*0.6*0.6*0.6*0.4*0.1 = 0.003456\n",
        "Sunny, Rainy, Rainy: 0.4*0.6*0.4*0.1*0.7*0.1 = 0.000672\n",
        "Rainy, Sunny, Rainy: 0.4*0.1*0.3*0.6*0.4*0.1 = 0.000288\n",
        "Rainy, Rainy, Sunny: 0.6*0.1*0.7*0.1*0.3*0.6 = 0.000756\n",
        "Rainy, Rainy, Rainy: 0.6*0.1*0.7*0.1*0.7*0.1 = 0.000294\n",
        "\n",
        "最大機率為: Sunny, Sunny, Sunny\n",
        "```"
      ]
    },
    {
      "cell_type": "code",
      "metadata": {
        "colab": {
          "base_uri": "https://localhost:8080/"
        },
        "id": "G8NlgwZFJoUQ",
        "outputId": "e51eb1e4-8a95-453f-80c9-6951f58de926"
      },
      "source": [
        "SSS = 0.4*(0.6)*0.6*(0.6)*0.6*(0.6)\r\n",
        "RSS = 0.6*(0.1)*0.3*(0.6)*0.6*(0.6)\r\n",
        "SRS = 0.4*0.6*0.4*0.1*0.4*0.6\r\n",
        "SSR = 0.4*0.6*0.6*0.6*0.4*0.1\r\n",
        "SRR = 0.4*0.6*0.4*0.1*0.7*0.1\r\n",
        "RSR = 0.4*0.1*0.3*0.6*0.4*0.1\r\n",
        "RRS = 0.6*0.1*0.7*0.1*0.3*0.6\r\n",
        "RRR = 0.6*0.1*0.7*0.1*0.7*0.1\r\n",
        "total = SSS + RSS + SRS + SSR + SRR + RSR + RRS + RRR\r\n",
        "print(f'P_SSS: {SSS};P_RSS: {RSS};P_SRS: {SRS};P_SSR: {SSR};P_SRR: {SRR};P_RSR: {RSR};P_RRS: {RRS};P_RRR: {RRR}')\r\n",
        "total"
      ],
      "execution_count": 11,
      "outputs": [
        {
          "output_type": "stream",
          "text": [
            "P_SSS: 0.031103999999999993;P_RSS: 0.003887999999999999;P_SRS: 0.002304;P_SSR: 0.0034560000000000003;P_SRR: 0.0006720000000000001;P_RSR: 0.00028800000000000006;P_RRS: 0.0007559999999999998;P_RRR: 0.000294\n"
          ],
          "name": "stdout"
        },
        {
          "output_type": "execute_result",
          "data": {
            "text/plain": [
              "0.042762"
            ]
          },
          "metadata": {
            "tags": []
          },
          "execution_count": 11
        }
      ]
    },
    {
      "cell_type": "markdown",
      "metadata": {
        "id": "iZOwmivOHoK2"
      },
      "source": [
        "### 根據上述條件, 寫出Viterbi應用程式"
      ]
    },
    {
      "cell_type": "code",
      "metadata": {
        "id": "zQmCYaOkHoK2"
      },
      "source": [
        "observations = ('dry', 'dry', 'dry') #實際上觀察到的狀態為dry, dry, dry\n",
        "states = ('sunny', 'rainy')\n",
        "start_probability = {'sunny': 0.4, 'rainy': 0.6}\n",
        "transition_probability = {'sunny':{'sunny':0.6, 'rainy':0.4},\n",
        "                          'rainy': {'sunny':0.3, 'rainy':0.7}}\n",
        "emission_probability = {'sunny': {'dry':0.6, 'damp':0.3, 'soggy':0.1},\n",
        "                        'rainy': {'dry':0.1, 'damp':0.4, 'soggy':0.5}}"
      ],
      "execution_count": 25,
      "outputs": []
    },
    {
      "cell_type": "code",
      "metadata": {
        "id": "e-iohjYPHoK3"
      },
      "source": [
        "def viterbi(obs, states, start_p, trans_p, emit_p):\n",
        "    V = [{}]\n",
        "    path = []\n",
        "\n",
        "    # Initialize base cases (t == 0)\n",
        "    for y in states:\n",
        "        # initial as V[0] and y represents sunny or rainy\n",
        "        V[0][y] = start_p[y] * emit_p[y][obs[0]]\n",
        "        # path.append(y)\n",
        "\n",
        "    # Run Viterbi for t > 0\n",
        "    for t in range(1,len(obs)):\n",
        "        ###<your codes>###\n",
        "        V.append({})\n",
        "        new_path = {}        \n",
        "        for cur_state in states:\n",
        "          (prob, state) = max([(V[t-1][pre_state] * trans_p[pre_state][cur_state] *   emit_p[cur_state][obs[t]], pre_state) for pre_state in states])\n",
        "          V[t][cur_state]= prob\n",
        "          # new_path[cur_state] = path[state] + [cur_state]\n",
        "          # path.append(state)\n",
        "          # print(new_path)\n",
        "        # Don't need to remember the old paths\n",
        "        # path = newpath\n",
        "    (prob, state) = max([(V[len(obs) - 1][final_state], final_state) for final_state in states])\n",
        "    # return (prob, path[state])\n",
        "    return prob"
      ],
      "execution_count": 39,
      "outputs": []
    },
    {
      "cell_type": "code",
      "metadata": {
        "id": "a7zb1oxkHoK4"
      },
      "source": [
        "result = viterbi(observations,\n",
        "                 states,\n",
        "                 start_probability,\n",
        "                 transition_probability,\n",
        "                 emission_probability)"
      ],
      "execution_count": 40,
      "outputs": []
    },
    {
      "cell_type": "code",
      "metadata": {
        "colab": {
          "base_uri": "https://localhost:8080/"
        },
        "id": "HlmqeSntHoK5",
        "outputId": "682a2cd6-aa90-47b1-94a5-4fe07b22aa1c"
      },
      "source": [
        "result"
      ],
      "execution_count": 41,
      "outputs": [
        {
          "output_type": "execute_result",
          "data": {
            "text/plain": [
              "0.031103999999999993"
            ]
          },
          "metadata": {
            "tags": []
          },
          "execution_count": 41
        }
      ]
    }
  ]
}