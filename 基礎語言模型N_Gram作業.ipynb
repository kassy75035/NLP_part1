{
  "nbformat": 4,
  "nbformat_minor": 0,
  "metadata": {
    "kernelspec": {
      "name": "python3",
      "display_name": "Python 3"
    },
    "colab": {
      "name": "基礎語言模型N_Gram作業.ipynb",
      "provenance": [],
      "collapsed_sections": [],
      "include_colab_link": true
    }
  },
  "cells": [
    {
      "cell_type": "markdown",
      "metadata": {
        "id": "view-in-github",
        "colab_type": "text"
      },
      "source": [
        "<a href=\"https://colab.research.google.com/github/kassy75035/NLP_part1/blob/main/%E5%9F%BA%E7%A4%8E%E8%AA%9E%E8%A8%80%E6%A8%A1%E5%9E%8BN_Gram%E4%BD%9C%E6%A5%AD.ipynb\" target=\"_parent\"><img src=\"https://colab.research.google.com/assets/colab-badge.svg\" alt=\"Open In Colab\"/></a>"
      ]
    },
    {
      "cell_type": "markdown",
      "metadata": {
        "id": "Q1UqKnL1KFuI"
      },
      "source": [
        "### 作業目標: 了解N-Gram如何藉由文本計算機率"
      ]
    },
    {
      "cell_type": "markdown",
      "metadata": {
        "id": "gnJhqwliKFuU"
      },
      "source": [
        "### 為何需要使用馬可夫假設來簡化語言模型的計算?\n",
        "\n",
        "原本的語言模型利用貝氏定理計算機率時為:\n",
        "$$\n",
        "\\begin{aligned}\n",
        "&W = (W_1W_2W_3W_4…W_m) \\\\\n",
        "&P(W_1,W_2,W_3,W_4,…,W_m) = P(W_1)*P(W_2|W_1)*P(W_3|W_1,W_2)*…*P(W_m|W_1,…,W_{m-1})\n",
        "\\end{aligned}\n",
        "$$\n",
        "\n",
        "為何需要引入馬可夫假設使機率簡化為:\n",
        "$$\n",
        "P(W_m|W_1,W_2,W_3,…,W_{m-1}) = P(W_m|W_{m-n+1},W_{m-n+2},…,W_{m-1})\n",
        "$$"
      ]
    },
    {
      "cell_type": "code",
      "metadata": {
        "id": "XMWu-OXEKFuV"
      },
      "source": [
        "'''\n",
        "###<your answer>###\n",
        "'''"
      ],
      "execution_count": null,
      "outputs": []
    },
    {
      "cell_type": "markdown",
      "metadata": {
        "id": "KMGpPhQ_KFuW"
      },
      "source": [
        "### 以Bigram模型下判斷語句是否合理\n",
        "\n",
        "已知的機率值有\n",
        "1. p(i|_start_) = 0.25\n",
        "2. p(english|want) = 0.0011\n",
        "3. p(food|english) = 0.5\n",
        "4. p(_end_|food) = 0.68\n",
        "5. P(want|_start_) = 0.25\n",
        "6. P(english|i) = 0.0011"
      ]
    },
    {
      "cell_type": "code",
      "metadata": {
        "scrolled": true,
        "colab": {
          "base_uri": "https://localhost:8080/",
          "height": 79
        },
        "id": "04nyaTj3KFuW",
        "outputId": "667c0eb0-cf55-471e-bcb0-94a2c3d0f325"
      },
      "source": [
        "import numpy as np\n",
        "import pandas as pd\n",
        "words = ['i', 'want', 'to', 'eat', 'chinese', 'food', 'lunch', 'spend']\n",
        "word_cnts = np.array([2533, 927, 2417, 746, 158, 1093, 341, 278]).reshape(1, -1)\n",
        "df_word_cnts = pd.DataFrame(word_cnts, columns=words)\n",
        "df_word_cnts"
      ],
      "execution_count": 1,
      "outputs": [
        {
          "output_type": "execute_result",
          "data": {
            "text/html": [
              "<div>\n",
              "<style scoped>\n",
              "    .dataframe tbody tr th:only-of-type {\n",
              "        vertical-align: middle;\n",
              "    }\n",
              "\n",
              "    .dataframe tbody tr th {\n",
              "        vertical-align: top;\n",
              "    }\n",
              "\n",
              "    .dataframe thead th {\n",
              "        text-align: right;\n",
              "    }\n",
              "</style>\n",
              "<table border=\"1\" class=\"dataframe\">\n",
              "  <thead>\n",
              "    <tr style=\"text-align: right;\">\n",
              "      <th></th>\n",
              "      <th>i</th>\n",
              "      <th>want</th>\n",
              "      <th>to</th>\n",
              "      <th>eat</th>\n",
              "      <th>chinese</th>\n",
              "      <th>food</th>\n",
              "      <th>lunch</th>\n",
              "      <th>spend</th>\n",
              "    </tr>\n",
              "  </thead>\n",
              "  <tbody>\n",
              "    <tr>\n",
              "      <th>0</th>\n",
              "      <td>2533</td>\n",
              "      <td>927</td>\n",
              "      <td>2417</td>\n",
              "      <td>746</td>\n",
              "      <td>158</td>\n",
              "      <td>1093</td>\n",
              "      <td>341</td>\n",
              "      <td>278</td>\n",
              "    </tr>\n",
              "  </tbody>\n",
              "</table>\n",
              "</div>"
            ],
            "text/plain": [
              "      i  want    to  eat  chinese  food  lunch  spend\n",
              "0  2533   927  2417  746      158  1093    341    278"
            ]
          },
          "metadata": {
            "tags": []
          },
          "execution_count": 1
        }
      ]
    },
    {
      "cell_type": "code",
      "metadata": {
        "colab": {
          "base_uri": "https://localhost:8080/",
          "height": 294
        },
        "id": "0dcxsBMyKFuZ",
        "outputId": "4c261113-66df-47b6-c9cd-8be91a9b002b"
      },
      "source": [
        "# 記錄當前字與前一個字詞的存在頻率\n",
        "bigram_word_cnts = [[5, 827, 0, 9, 0, 0, 0, 2], [2, 0, 608, 1, 6, 6, 5, 1], [2, 0, 4, 686, 2, 0, 6, 211],\n",
        "                    [0, 0, 2, 0, 16, 2, 42, 0], [1, 0, 0, 0, 0, 82, 1, 0], [15, 0, 15, 0, 1, 4, 0, 0],\n",
        "                    [2, 0, 0, 0, 0, 1, 0, 0], [1, 0, 1, 0, 0, 0, 0, 0]]\n",
        "\n",
        "df_bigram_word_cnts = pd.DataFrame(bigram_word_cnts, columns=words, index=words)\n",
        "df_bigram_word_cnts"
      ],
      "execution_count": 2,
      "outputs": [
        {
          "output_type": "execute_result",
          "data": {
            "text/html": [
              "<div>\n",
              "<style scoped>\n",
              "    .dataframe tbody tr th:only-of-type {\n",
              "        vertical-align: middle;\n",
              "    }\n",
              "\n",
              "    .dataframe tbody tr th {\n",
              "        vertical-align: top;\n",
              "    }\n",
              "\n",
              "    .dataframe thead th {\n",
              "        text-align: right;\n",
              "    }\n",
              "</style>\n",
              "<table border=\"1\" class=\"dataframe\">\n",
              "  <thead>\n",
              "    <tr style=\"text-align: right;\">\n",
              "      <th></th>\n",
              "      <th>i</th>\n",
              "      <th>want</th>\n",
              "      <th>to</th>\n",
              "      <th>eat</th>\n",
              "      <th>chinese</th>\n",
              "      <th>food</th>\n",
              "      <th>lunch</th>\n",
              "      <th>spend</th>\n",
              "    </tr>\n",
              "  </thead>\n",
              "  <tbody>\n",
              "    <tr>\n",
              "      <th>i</th>\n",
              "      <td>5</td>\n",
              "      <td>827</td>\n",
              "      <td>0</td>\n",
              "      <td>9</td>\n",
              "      <td>0</td>\n",
              "      <td>0</td>\n",
              "      <td>0</td>\n",
              "      <td>2</td>\n",
              "    </tr>\n",
              "    <tr>\n",
              "      <th>want</th>\n",
              "      <td>2</td>\n",
              "      <td>0</td>\n",
              "      <td>608</td>\n",
              "      <td>1</td>\n",
              "      <td>6</td>\n",
              "      <td>6</td>\n",
              "      <td>5</td>\n",
              "      <td>1</td>\n",
              "    </tr>\n",
              "    <tr>\n",
              "      <th>to</th>\n",
              "      <td>2</td>\n",
              "      <td>0</td>\n",
              "      <td>4</td>\n",
              "      <td>686</td>\n",
              "      <td>2</td>\n",
              "      <td>0</td>\n",
              "      <td>6</td>\n",
              "      <td>211</td>\n",
              "    </tr>\n",
              "    <tr>\n",
              "      <th>eat</th>\n",
              "      <td>0</td>\n",
              "      <td>0</td>\n",
              "      <td>2</td>\n",
              "      <td>0</td>\n",
              "      <td>16</td>\n",
              "      <td>2</td>\n",
              "      <td>42</td>\n",
              "      <td>0</td>\n",
              "    </tr>\n",
              "    <tr>\n",
              "      <th>chinese</th>\n",
              "      <td>1</td>\n",
              "      <td>0</td>\n",
              "      <td>0</td>\n",
              "      <td>0</td>\n",
              "      <td>0</td>\n",
              "      <td>82</td>\n",
              "      <td>1</td>\n",
              "      <td>0</td>\n",
              "    </tr>\n",
              "    <tr>\n",
              "      <th>food</th>\n",
              "      <td>15</td>\n",
              "      <td>0</td>\n",
              "      <td>15</td>\n",
              "      <td>0</td>\n",
              "      <td>1</td>\n",
              "      <td>4</td>\n",
              "      <td>0</td>\n",
              "      <td>0</td>\n",
              "    </tr>\n",
              "    <tr>\n",
              "      <th>lunch</th>\n",
              "      <td>2</td>\n",
              "      <td>0</td>\n",
              "      <td>0</td>\n",
              "      <td>0</td>\n",
              "      <td>0</td>\n",
              "      <td>1</td>\n",
              "      <td>0</td>\n",
              "      <td>0</td>\n",
              "    </tr>\n",
              "    <tr>\n",
              "      <th>spend</th>\n",
              "      <td>1</td>\n",
              "      <td>0</td>\n",
              "      <td>1</td>\n",
              "      <td>0</td>\n",
              "      <td>0</td>\n",
              "      <td>0</td>\n",
              "      <td>0</td>\n",
              "      <td>0</td>\n",
              "    </tr>\n",
              "  </tbody>\n",
              "</table>\n",
              "</div>"
            ],
            "text/plain": [
              "          i  want   to  eat  chinese  food  lunch  spend\n",
              "i         5   827    0    9        0     0      0      2\n",
              "want      2     0  608    1        6     6      5      1\n",
              "to        2     0    4  686        2     0      6    211\n",
              "eat       0     0    2    0       16     2     42      0\n",
              "chinese   1     0    0    0        0    82      1      0\n",
              "food     15     0   15    0        1     4      0      0\n",
              "lunch     2     0    0    0        0     1      0      0\n",
              "spend     1     0    1    0        0     0      0      0"
            ]
          },
          "metadata": {
            "tags": []
          },
          "execution_count": 2
        }
      ]
    },
    {
      "cell_type": "markdown",
      "metadata": {
        "id": "pYS_U0DgKFuZ"
      },
      "source": [
        "由上表可知當前一個字詞(列)是want的時候, 當前字詞(行)是to的頻率在文本中共有608次"
      ]
    },
    {
      "cell_type": "code",
      "metadata": {
        "colab": {
          "base_uri": "https://localhost:8080/"
        },
        "id": "W4MvvxS2KFua",
        "outputId": "b74485af-2357-450a-bb38-82abc68f77fb"
      },
      "source": [
        "#請根據給出的總詞頻(df_word_cnts)與bigram模型的詞頻(df_bigram_word_cnts)計算出所有詞的配對機率(ex:p(want|i))\n",
        "df_bigram_prob = df_bigram_word_cnts.copy()\n",
        "df_bigram_prob = np.array(df_bigram_prob)\n",
        "df_temp = np.zeros((df_bigram_prob.shape[0],df_bigram_prob.shape[1]))\n",
        "###<your code>###\n",
        "for i in range(word_cnts.shape[1]):\n",
        "  df_temp[:,i] = df_bigram_prob[:,i]/word_cnts[0][i]\n",
        "\n",
        "# df_bigram_prob\n",
        "df_bigram_prob = df_temp\n",
        "df_bigram_prob"
      ],
      "execution_count": 43,
      "outputs": [
        {
          "output_type": "execute_result",
          "data": {
            "text/plain": [
              "array([[1.97394394e-03, 8.92125135e-01, 0.00000000e+00, 1.20643432e-02,\n",
              "        0.00000000e+00, 0.00000000e+00, 0.00000000e+00, 7.19424460e-03],\n",
              "       [7.89577576e-04, 0.00000000e+00, 2.51551510e-01, 1.34048257e-03,\n",
              "        3.79746835e-02, 5.48947850e-03, 1.46627566e-02, 3.59712230e-03],\n",
              "       [7.89577576e-04, 0.00000000e+00, 1.65494415e-03, 9.19571046e-01,\n",
              "        1.26582278e-02, 0.00000000e+00, 1.75953079e-02, 7.58992806e-01],\n",
              "       [0.00000000e+00, 0.00000000e+00, 8.27472073e-04, 0.00000000e+00,\n",
              "        1.01265823e-01, 1.82982617e-03, 1.23167155e-01, 0.00000000e+00],\n",
              "       [3.94788788e-04, 0.00000000e+00, 0.00000000e+00, 0.00000000e+00,\n",
              "        0.00000000e+00, 7.50228728e-02, 2.93255132e-03, 0.00000000e+00],\n",
              "       [5.92183182e-03, 0.00000000e+00, 6.20604055e-03, 0.00000000e+00,\n",
              "        6.32911392e-03, 3.65965233e-03, 0.00000000e+00, 0.00000000e+00],\n",
              "       [7.89577576e-04, 0.00000000e+00, 0.00000000e+00, 0.00000000e+00,\n",
              "        0.00000000e+00, 9.14913083e-04, 0.00000000e+00, 0.00000000e+00],\n",
              "       [3.94788788e-04, 0.00000000e+00, 4.13736036e-04, 0.00000000e+00,\n",
              "        0.00000000e+00, 0.00000000e+00, 0.00000000e+00, 0.00000000e+00]])"
            ]
          },
          "metadata": {
            "tags": []
          },
          "execution_count": 43
        }
      ]
    },
    {
      "cell_type": "code",
      "metadata": {
        "colab": {
          "base_uri": "https://localhost:8080/"
        },
        "id": "6IL9lm1eSCgf",
        "outputId": "86573873-9854-4c9b-da18-2cc58f602431"
      },
      "source": [
        "df_bigram_prob[:,0]/word_cnts[0][0]"
      ],
      "execution_count": 38,
      "outputs": [
        {
          "output_type": "execute_result",
          "data": {
            "text/plain": [
              "array([0.00197394, 0.00078958, 0.00078958, 0.        , 0.00039479,\n",
              "       0.00592183, 0.00078958, 0.00039479])"
            ]
          },
          "metadata": {
            "tags": []
          },
          "execution_count": 38
        }
      ]
    },
    {
      "cell_type": "markdown",
      "metadata": {
        "id": "w5-pDL9nKFua"
      },
      "source": [
        "請根據已給的機率與所計算出的機率(df_bigram_prob), 試著判斷下列兩個句子哪個較為合理\n",
        "\n",
        "s1 = “i want english food”\n",
        "\n",
        "s2 = \"want i english food\""
      ]
    },
    {
      "cell_type": "code",
      "metadata": {
        "id": "0Po0OEv2KFub"
      },
      "source": [
        "'''\n",
        "###<your answer>###\n",
        "'''\n",
        "s1"
      ],
      "execution_count": null,
      "outputs": []
    },
    {
      "cell_type": "code",
      "metadata": {
        "id": "wMTHSrmrKFub"
      },
      "source": [
        ""
      ],
      "execution_count": null,
      "outputs": []
    }
  ]
}