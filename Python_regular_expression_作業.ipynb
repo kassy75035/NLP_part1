{
  "nbformat": 4,
  "nbformat_minor": 0,
  "metadata": {
    "kernelspec": {
      "name": "python3",
      "display_name": "Python 3"
    },
    "colab": {
      "name": "Python_regular_expression_作業.ipynb",
      "provenance": [],
      "collapsed_sections": [],
      "include_colab_link": true
    }
  },
  "cells": [
    {
      "cell_type": "markdown",
      "metadata": {
        "id": "view-in-github",
        "colab_type": "text"
      },
      "source": [
        "<a href=\"https://colab.research.google.com/github/kassy75035/NLP_part1/blob/main/Python_regular_expression_%E4%BD%9C%E6%A5%AD.ipynb\" target=\"_parent\"><img src=\"https://colab.research.google.com/assets/colab-badge.svg\" alt=\"Open In Colab\"/></a>"
      ]
    },
    {
      "cell_type": "markdown",
      "metadata": {
        "id": "tTJolmzeBLGr"
      },
      "source": [
        "# 作業目標: 使用python正規表達式對資料進行清洗處理\n",
        "\n",
        "這份作業我們會使用詐欺郵件的文本資料來作為清洗與處理的操作。\n",
        "[資料集](https://www.kaggle.com/rtatman/fraudulent-email-corpus/data#)"
      ]
    },
    {
      "cell_type": "markdown",
      "metadata": {
        "id": "vhv0OElTBLGs"
      },
      "source": [
        "### 讀入資料文本\n",
        "因原始文本較大，先使用部份擷取的**sample_emails.txt**來進行練習"
      ]
    },
    {
      "cell_type": "code",
      "metadata": {
        "id": "a0BdDqt1BLGt",
        "colab": {
          "base_uri": "https://localhost:8080/"
        },
        "outputId": "c17f44a0-bbeb-4871-871b-9d949f55024d"
      },
      "source": [
        "#讀取文本資料\n",
        "#<your code>#\n",
        "from google.colab import files\n",
        "from google.colab import drive\n",
        "drive.mount('/content/gdrive')\n",
        "data_path = '/content/gdrive/My Drive/Colab Notebooks/NLP/sample_emails.txt'\n",
        "# file = open(data_path)"
      ],
      "execution_count": 29,
      "outputs": [
        {
          "output_type": "stream",
          "text": [
            "Drive already mounted at /content/gdrive; to attempt to forcibly remount, call drive.mount(\"/content/gdrive\", force_remount=True).\n"
          ],
          "name": "stdout"
        }
      ]
    },
    {
      "cell_type": "code",
      "metadata": {
        "scrolled": true,
        "id": "XQbjXNKdBLGx",
        "colab": {
          "base_uri": "https://localhost:8080/",
          "height": 122
        },
        "outputId": "7a012813-0c79-4023-b006-6711580b4207"
      },
      "source": [
        "# sample_corpus = file.read()\r\n",
        "# sample_corpus\r\n",
        "with open(data_path, 'r') as f:\r\n",
        "  sample_corpus = f.read()\r\n",
        "sample_corpus"
      ],
      "execution_count": 30,
      "outputs": [
        {
          "output_type": "execute_result",
          "data": {
            "application/vnd.google.colaboratory.intrinsic+json": {
              "type": "string"
            },
            "text/plain": [
              "'From r  Wed Oct 30 21:41:56 2002\\nReturn-Path: <james_ngola2002@maktoob.com>\\nX-Sieve: cmu-sieve 2.0\\nReturn-Path: <james_ngola2002@maktoob.com>\\nMessage-Id: <200210310241.g9V2fNm6028281@cs.CU>\\nFrom: \"MR. JAMES NGOLA.\" <james_ngola2002@maktoob.com>\\nReply-To: james_ngola2002@maktoob.com\\nTo: webmaster@aclweb.org\\nDate: Thu, 31 Oct 2002 02:38:20 +0000\\nSubject: URGENT BUSINESS ASSISTANCE AND PARTNERSHIP\\nX-Mailer: Microsoft Outlook Express 5.00.2919.6900 DM\\nMIME-Version: 1.0\\nContent-Type: text/plain; charset=\"us-ascii\"\\nContent-Transfer-Encoding: 8bit\\nX-MIME-Autoconverted: from quoted-printable to 8bit by sideshowmel.si.UM id g9V2foW24311\\nStatus: O\\n\\nFROM:MR. JAMES NGOLA.\\nCONFIDENTIAL TEL: 233-27-587908.\\nE-MAIL: (james_ngola2002@maktoob.com).\\n\\nURGENT BUSINESS ASSISTANCE AND PARTNERSHIP.\\n\\n\\nDEAR FRIEND,\\n\\nI AM ( DR.) JAMES NGOLA, THE PERSONAL ASSISTANCE TO THE LATE CONGOLESE (PRESIDENT LAURENT KABILA) WHO WAS ASSASSINATED BY HIS BODY GUARD ON 16TH JAN. 2001.\\n\\n\\nTHE INCIDENT OCCURRED IN OUR PRESENCE WHILE WE WERE HOLDING MEETING WITH HIS EXCELLENCY OVER THE FINANCIAL RETURNS FROM THE DIAMOND SALES IN THE AREAS CONTROLLED BY (D.R.C.) DEMOCRATIC REPUBLIC OF CONGO FORCES AND THEIR FOREIGN ALLIES ANGOLA AND ZIMBABWE, HAVING RECEIVED THE PREVIOUS DAY (USD$100M) ONE HUNDRED MILLION UNITED STATES DOLLARS, CASH IN THREE DIPLOMATIC BOXES ROUTED THROUGH ZIMBABWE.\\n\\nMY PURPOSE OF WRITING YOU THIS LETTER IS TO SOLICIT FOR YOUR ASSISTANCE AS TO BE A COVER TO THE FUND AND ALSO COLLABORATION IN MOVING THE SAID FUND INTO YOUR BANK ACCOUNT THE SUM OF (USD$25M) TWENTY FIVE MILLION UNITED STATES DOLLARS ONLY, WHICH I DEPOSITED WITH A SECURITY COMPANY IN GHANA, IN A DIPLOMATIC BOX AS GOLDS WORTH (USD$25M) TWENTY FIVE MILLION UNITED STATES DOLLARS ONLY FOR SAFE KEEPING IN A SECURITY VAULT FOR ANY FURTHER INVESTMENT PERHAPS IN YOUR COUNTRY. \\n\\nYOU WERE INTRODUCED TO ME BY A RELIABLE FRIEND OF MINE WHO IS A TRAVELLER,AND ALSO A MEMBER OF CHAMBER OF COMMERCE AS A RELIABLE AND TRUSTWORTHY PERSON WHOM I CAN RELY ON AS FOREIGN PARTNER, EVEN THOUGH THE NATURE OF THE TRANSACTION WAS NOT REVEALED TO HIM FOR SECURITY REASONS.\\n\\n\\nTHE (USD$25M) WAS PART OF A PROCEEDS FROM DIAMOND TRADE MEANT FOR THE LATE PRESIDENT LAURENT KABILA WHICH WAS DELIVERED THROUGH ZIMBABWE IN DIPLOMATIC BOXES. THE BOXES WERE KEPT UNDER MY CUSTODY BEFORE THE SAD EVENT THAT TOOK THE LIFE OF (MR. PRESIDENT).THE CONFUSION THAT ENSUED AFTER THE ASSASSINATION AND THE SPORADIC SHOOTING AMONG THE FACTIONS, I HAVE TO RUN AWAY FROM THE COUNTRY FOR MY DEAR LIFE AS I AM NOT A SOLDIER BUT A CIVIL SERVANT I CROSSED RIVER CONGO TO OTHER SIDE OF CONGO LIBREVILLE FROM THERE I MOVED TO THE THIRD COUNTRY GHANA WHERE I AM PRESENTLY TAKING REFUGE. \\n\\nAS A MATTER OF FACT, WHAT I URGENTLY NEEDED FROM YOU IS YOUR ASSISTANCE IN MOVING THIS MONEY INTO YOUR ACCOUNT IN YOUR COUNTRY FOR INVESTMENT WITHOUT RAISING EYEBROW. FOR YOUR ASSISTANCE I WILL GIVE YOU 20% OF THE TOTAL SUM AS YOUR OWN SHARE WHEN THE MONEY GETS TO YOUR ACCOUNT, WHILE 75% WILL BE FOR ME, OF WHICH WITH YOUR KIND ADVICE I HOPE TO INVEST IN PROFITABLE VENTURE IN YOUR COUNTRY IN OTHER TO SETTLE DOWN FOR MEANINGFUL LIFE, AS I AM TIRED OF LIVING IN A WAR ENVIRONMENT. \\n\\nTHE REMAINING 5% WILL BE USED TO OFFSET ANY COST INCURRED IN THE CAUSE OF MOVING THE MONEY TO YOUR ACCOUNT. IF THE PROPOSAL IS ACCEPTABLE TO YOU PLEASE CONTACT ME IMMEDIATELY THROUGH THE ABOVE TELEPHONE AND E-MAIL, TO ENABLE ME ARRANGE FACE TO FACE MEETING WITH YOU IN GHANA FOR THE CLEARANCE OF THE FUNDS BEFORE TRANSFRING IT TO YOUR BANK ACCOUNT AS SEEING IS BELIEVING. \\n\\nFINALLY, IT IS IMPORTANT ALSO THAT I LET YOU UNDERSTAND THAT THERE IS NO RISK INVOLVED WHATSOEVER AS THE MONEY HAD NO RECORD IN KINSHASA FOR IT WAS MEANT FOR THE PERSONAL USE OF (MR. PRESIDEND ) BEFORE THE NEFARIOUS INCIDENT OCCURRED, AND ALSO I HAVE ALL THE NECESSARY DOCUMENTS AS REGARDS TO THE FUNDS INCLUDING THE (CERTIFICATE OF DEPOSIT), AS I AM THE DEPOSITOR OF THE CONSIGNMENT.\\n\\n\\nLOOKING FORWARD TO YOUR URGENT RESPONSE.\\n\\nYOUR SINCERELY,\\n\\nMR. JAMES NGOLA. \\n\\n\\n\\n\\n\\n\\n\\n\\n\\n\\nFrom r  Thu Oct 31 08:11:39 2002\\nReturn-Path: <bensul2004nng@spinfinder.com>\\nX-Sieve: cmu-sieve 2.0\\nReturn-Path: <bensul2004nng@spinfinder.com>\\nMessage-Id: <200210311310.g9VDANt24674@bloodwork.mr.itd.UM>\\nFrom: \"Mr. Ben Suleman\" <bensul2004nng@spinfinder.com>\\nDate: Thu, 31 Oct 2002 05:10:00\\nTo: R@M\\nSubject: URGENT ASSISTANCE /RELATIONSHIP (P)\\nMIME-Version: 1.0\\nContent-Type: text/plain;charset=\"iso-8859-1\"\\nContent-Transfer-Encoding: 7bit\\nStatus: O\\n\\nDear Friend,\\n\\nI am Mr. Ben Suleman a custom officer and work as Assistant controller of the Customs and Excise department Of the Federal Ministry of Internal Affairs stationed at the Murtala Mohammed International Airport, Ikeja, Lagos-Nigeria.\\n\\nAfter the sudden death of the former Head of state of Nigeria General Sanni Abacha on June 8th 1998 his aides and immediate members of his family were arrested while trying to escape from Nigeria in a Chartered jet to Saudi Arabia with 6 trunk boxes Marked \"Diplomatic Baggage\". Acting on a tip-off as they attempted to board the Air Craft,my officials carried out a thorough search on the air craft and discovered that the 6 trunk boxes contained foreign currencies amounting to US$197,570,000.00(One Hundred and  Ninety-Seven Million Five Hundred Seventy Thousand United States Dollars).\\n\\nI declared only (5) five boxes to the government and withheld one (1) in my custody containing the sum of (US$30,000,000.00) Thirty Million United States Dollars Only, which has been disguised to prevent their being discovered during transportation process.Due to several media reports on the late head of state about all the money him and his co-government officials stole from our government treasury amounting\\nto US$55 Billion Dollars (ref:ngrguardiannews.com) of July 2nd 1999. Even the London times of July 1998 reported that General Abacha has over US$3.Billion dollars in one account overseas. We decided to conceal this one (1)box till the situation is calm and quite on the issue. The box was thus deposited with a security company here in Nigeria and tagged as \"Precious Stones and Jewellry\" in other that its\\ncontent will not be discovered. Now that all is calm, we (myself and two of my colleagues in the operations team) are now ready to move this box out of the country through a diplomatic arrangement which is the safest means. \\n\\nHowever as government officials the Civil Service Code of Conduct does not allow us by law to operate any foreign account or own foreign investment and the amount of money that can be found in our account\\ncannot be more than our salary on the average, thus our handicapp and our need for your assistance to help collect and keep safely in your account this money.\\n\\nTherefore we want you to assist us in moving this money out of Nigeria. We shall definitely compensate you handsomely for the assistance. We can do this by instructing the Security Company here in Nigeria to\\nmove the consignment to their affiliate branch office outside Nigeria through diplomatic means and the consignment will be termed as Precious Stones and Jewelleries\" which you bought during your visit to Nigeria and is being transfered to your country from here for safe keeping. Then we can arrange to meet at the destination country to take the delivery of the consignment. You will thereafter open an account there and lodge the Money there and gradually instruct remittance to your Country. \\n\\nThis business is 100% risk free for you so please treat this matter with utmost confidentiality .If you indicate your interest to assist us please just e-mail me for more Explanation on how we plan to execute the transaction.\\n\\nExpecting your response urgently.\\n\\nBest regards,\\n\\nMr. Ben Suleman\\n\\nFrom r  Thu Oct 31 17:27:16 2002\\nReturn-Path: <obong_715@epatra.com>\\nX-Sieve: cmu-sieve 2.0\\nReturn-Path: <obong_715@epatra.com>\\nMessage-Id: <200210312227.g9VMQvDj017948@bluewhale.cs.CU>\\nFrom: \"PRINCE OBONG ELEME\" <obong_715@epatra.com>\\nReply-To: obong_715@epatra.com\\nTo: webmaster@aclweb.org\\nDate: Thu, 31 Oct 2002 22:17:55 +0100\\nSubject: GOOD DAY TO YOU\\nX-Mailer: Microsoft Outlook Express 5.00.2919.6900DM\\nMIME-Version: 1.0\\nContent-Type: text/plain; charset=\"us-ascii\"\\nContent-Transfer-Encoding: 8bit\\nX-MIME-Autoconverted: from quoted-printable to 8bit by sideshowmel.si.UM id g9VMRBW20642\\nStatus: RO\\n\\nFROM HIS ROYAL MAJESTY (HRM) CROWN RULER OF ELEME KINGDOM \\nCHIEF DANIEL ELEME, PHD, EZE 1 OF ELEME.E-MAIL \\nADDRESS:obong_715@epatra.com  \\n\\nATTENTION:PRESIDENT,CEO Sir/ Madam. \\n\\nThis letter might surprise you because we have met\\nneither in person nor by correspondence. But I believe\\nit is one day that you got to know somebody either in\\nphysical or through correspondence. \\n\\nI got your contact through discreet inquiry from the\\nchambers of commerce and industry of your country on\\nthe net, you and your organization were revealed as\\nbeing quite astute in private entrepreneurship, one\\nhas no doubt in your ability to handle a financialbusiness transaction. \\n\\nHowever, I am the first son of His Royal\\nmajesty,Obong.D. Eleme , and the traditional Ruler of\\nEleme Province in the oil producing area of River\\nState of Nigeria. I am making this contact to you in\\nrespect of US$60,000,000.00 (Sixty Million United\\nState Dollars), which I inherited, from my latefather. \\n\\nThis money was accumulated from royalties paid to my\\nfather as compensation by the oil firms located in our\\narea as a result of oil presence on our land, which\\nhamper agriculture, which is our major source oflivelihood. \\n\\nUnfortunately my father died from protracted\\ndiabetes.But before his death he called my attention\\nand informed me that he lodged some funds on a two\\nboxes with a security firm with an open beneficiary\\nstatus. The lodgment security code number was also\\nrevealed to me, he then advised me to look for a\\nreliable business partner abroad, that will assist me\\nin investing the money in a lucrative business as a\\nresult of economic instability in Nigeria. So this is\\nthe main reason why I am contacting you for us to move\\nthis money from the security firm to any Country of\\nyour choice for investment purpose. \\n\\nSo I will like you to be the ultimate beneficiary, so\\nthat the funds can be moved in your name and\\nparticulars to any Country of your choice where it\\nwill be claimed and invested. Hence my father have had\\nintimated the security firm personnel that the\\nbeneficiary of the box is his foreign partner whose\\nparticulars will be forwarded to the firm when due. \\n\\nBut I will guide you Accordingly. As soon as the funds\\nreach, I will then come over to meet you in person, so\\nthat we can discuss physically on investment\\npotentials. Based on this assistance my Family and I\\nhave unanimously decided to give you 30% of the total\\nmoney, 5% for Charity home, 10% for expenses, which\\nmay arise during this transaction, Fax and phone bills\\ninclusive. The balance of 55% you will invest andmanaged for my Family. \\n\\nI hereby guarantee you that this is not government\\nmoney, it is not drug money and it is not money from\\narms deal. Though you have to maintain high degree of\\nconfidentiality on this matter. I will give more\\ndetails about the proceedings of this transaction as\\nsoon as I receive your favorable reply. \\n\\nPlease reply to my Email Address:obong_715@epatra.com\\nI hope this will be the beginning of a prosperous\\nrelationship between my family and your family. \\n\\nNevertheless if you are for any reason not interested,\\nkindly inform me immediately so that I will look foranother contact. \\n\\nI am waiting for your quick response. \\n\\nYours faithfully, \\n\\nPrince Obong Abbot \\n'"
            ]
          },
          "metadata": {
            "tags": []
          },
          "execution_count": 30
        }
      ]
    },
    {
      "cell_type": "markdown",
      "metadata": {
        "id": "aUg8HenSBLG2"
      },
      "source": [
        "### 讀取寄件者資訊\n",
        "觀察文本資料可以發現, 寄件者資訊都符合以下格式\n",
        "\n",
        "`From: <收件者姓名> <收件者電子郵件>`"
      ]
    },
    {
      "cell_type": "code",
      "metadata": {
        "id": "YgsUuHsfBLG2"
      },
      "source": [
        "import re\r\n",
        "pattern = r'From: \"([\\w\\.\\s]+)\" <([\\w]+@[\\w]+.com)' #這裡使用原始字串作為配對"
      ],
      "execution_count": 32,
      "outputs": []
    },
    {
      "cell_type": "code",
      "metadata": {
        "id": "pofRrOGhBLG5",
        "colab": {
          "base_uri": "https://localhost:8080/"
        },
        "outputId": "3294a914-e0dd-40b4-8b49-5708abee8f46"
      },
      "source": [
        "match = re.findall(pattern, sample_corpus)\r\n",
        "match"
      ],
      "execution_count": 33,
      "outputs": [
        {
          "output_type": "execute_result",
          "data": {
            "text/plain": [
              "[('MR. JAMES NGOLA.', 'james_ngola2002@maktoob.com'),\n",
              " ('Mr. Ben Suleman', 'bensul2004nng@spinfinder.com'),\n",
              " ('PRINCE OBONG ELEME', 'obong_715@epatra.com')]"
            ]
          },
          "metadata": {
            "tags": []
          },
          "execution_count": 33
        }
      ]
    },
    {
      "cell_type": "markdown",
      "metadata": {
        "id": "Ac8KHAqTBLG7"
      },
      "source": [
        "### 只讀取寄件者姓名"
      ]
    },
    {
      "cell_type": "code",
      "metadata": {
        "id": "coBDE2iBBLG8",
        "colab": {
          "base_uri": "https://localhost:8080/"
        },
        "outputId": "1a4d97b6-ca2c-497c-87c6-703a92a64dc6"
      },
      "source": [
        "import pandas as pd\r\n",
        "mail_dict = {}\r\n",
        "for m in match:\r\n",
        "  mail_dict[m[0]] = m[1]\r\n",
        "  print(m[0])"
      ],
      "execution_count": 34,
      "outputs": [
        {
          "output_type": "stream",
          "text": [
            "MR. JAMES NGOLA.\n",
            "Mr. Ben Suleman\n",
            "PRINCE OBONG ELEME\n"
          ],
          "name": "stdout"
        }
      ]
    },
    {
      "cell_type": "markdown",
      "metadata": {
        "id": "gaJefecaBLG-"
      },
      "source": [
        "### 只讀取寄件者電子信箱"
      ]
    },
    {
      "cell_type": "code",
      "metadata": {
        "id": "G55ADKW_BLG_",
        "colab": {
          "base_uri": "https://localhost:8080/"
        },
        "outputId": "10890d47-23f7-420e-b97b-21b11b512c01"
      },
      "source": [
        "for i, m in enumerate(mail_dict):\r\n",
        "  print(f'{i}: {mail_dict[m]}')\r\n"
      ],
      "execution_count": 36,
      "outputs": [
        {
          "output_type": "stream",
          "text": [
            "0: james_ngola2002@maktoob.com\n",
            "1: bensul2004nng@spinfinder.com\n",
            "2: obong_715@epatra.com\n"
          ],
          "name": "stdout"
        }
      ]
    },
    {
      "cell_type": "markdown",
      "metadata": {
        "id": "t-RXjNLiBLHC"
      },
      "source": [
        "### 只讀取電子信箱中的寄件機構資訊\n",
        "ex: james_ngola2002@maktoob.com --> 取maktoob"
      ]
    },
    {
      "cell_type": "code",
      "metadata": {
        "id": "qC2Sd6_SBLHC",
        "colab": {
          "base_uri": "https://localhost:8080/"
        },
        "outputId": "9641e380-8933-46d8-f2ff-0141a73cfeb9"
      },
      "source": [
        "pattern_mail = r'([\\w]+)@([\\w]+).com'\r\n",
        "for i, m in enumerate(mail_dict):\r\n",
        "  org = re.findall(pattern_mail, mail_dict[m])\r\n",
        "  print(org[0][1])"
      ],
      "execution_count": 37,
      "outputs": [
        {
          "output_type": "stream",
          "text": [
            "maktoob\n",
            "spinfinder\n",
            "epatra\n"
          ],
          "name": "stdout"
        }
      ]
    },
    {
      "cell_type": "markdown",
      "metadata": {
        "id": "vfzkuLCWBLHG"
      },
      "source": [
        "### 結合上面的配對方式, 將寄件者的帳號與機構訊返回\n",
        "ex: james_ngola2002@maktoob.com --> [james_ngola2002, maktoob]"
      ]
    },
    {
      "cell_type": "code",
      "metadata": {
        "id": "t3lTRThcBLHG",
        "colab": {
          "base_uri": "https://localhost:8080/"
        },
        "outputId": "2bdeadbc-1001-42dd-985f-e30d56d2cd2a"
      },
      "source": [
        "pattern_mail = r'([\\w]+)@([\\w]+).com'\r\n",
        "for i, m in enumerate(mail_dict):\r\n",
        "  org = re.findall(pattern_mail, mail_dict[m])\r\n",
        "  print(f'{org[0][0]}, {org[0][1]}')"
      ],
      "execution_count": 38,
      "outputs": [
        {
          "output_type": "stream",
          "text": [
            "james_ngola2002, maktoob\n",
            "bensul2004nng, spinfinder\n",
            "obong_715, epatra\n"
          ],
          "name": "stdout"
        }
      ]
    },
    {
      "cell_type": "code",
      "metadata": {
        "colab": {
          "base_uri": "https://localhost:8080/",
          "height": 122
        },
        "id": "TZ8Q61S3AltN",
        "outputId": "6643c395-9293-4229-bb7e-b866d16fc971"
      },
      "source": [
        "pattern2 = r'(From r .*)'\r\n",
        "pattern3 = r'(From r )'\r\n",
        "# match_test = re.finditer(pattern2, sample_corpus)\r\n",
        "match_test2 = re.split(pattern3, sample_corpus)\r\n",
        "# print(f'total emails: {len(match_test)} in the type of {type(match_test)}')\r\n",
        "list_index = []\r\n",
        "# for i, ma in enumerate(match_test):\r\n",
        "#   # list_test.append(sample_corpus[ma.start():ma.end()])\r\n",
        "#   list_index.append(ma.start())\r\n",
        "#   # print(f'content:{ma}, and starts from index {ma.start()} to {ma.end()}')\r\n",
        "#   # print(type(ma.start()))\r\n",
        "\r\n",
        "# list_index\r\n",
        "list_test = []\r\n",
        "match_test2\r\n",
        "for ma in match_test2:\r\n",
        "  if ma == (''):\r\n",
        "    continue\r\n",
        "  elif ma ==('From r '):\r\n",
        "    continue\r\n",
        "  else:\r\n",
        "    list_test.append(ma)\r\n",
        "\r\n",
        "list_test[0]"
      ],
      "execution_count": 92,
      "outputs": [
        {
          "output_type": "execute_result",
          "data": {
            "application/vnd.google.colaboratory.intrinsic+json": {
              "type": "string"
            },
            "text/plain": [
              "' Wed Oct 30 21:41:56 2002\\nReturn-Path: <james_ngola2002@maktoob.com>\\nX-Sieve: cmu-sieve 2.0\\nReturn-Path: <james_ngola2002@maktoob.com>\\nMessage-Id: <200210310241.g9V2fNm6028281@cs.CU>\\nFrom: \"MR. JAMES NGOLA.\" <james_ngola2002@maktoob.com>\\nReply-To: james_ngola2002@maktoob.com\\nTo: webmaster@aclweb.org\\nDate: Thu, 31 Oct 2002 02:38:20 +0000\\nSubject: URGENT BUSINESS ASSISTANCE AND PARTNERSHIP\\nX-Mailer: Microsoft Outlook Express 5.00.2919.6900 DM\\nMIME-Version: 1.0\\nContent-Type: text/plain; charset=\"us-ascii\"\\nContent-Transfer-Encoding: 8bit\\nX-MIME-Autoconverted: from quoted-printable to 8bit by sideshowmel.si.UM id g9V2foW24311\\nStatus: O\\n\\nFROM:MR. JAMES NGOLA.\\nCONFIDENTIAL TEL: 233-27-587908.\\nE-MAIL: (james_ngola2002@maktoob.com).\\n\\nURGENT BUSINESS ASSISTANCE AND PARTNERSHIP.\\n\\n\\nDEAR FRIEND,\\n\\nI AM ( DR.) JAMES NGOLA, THE PERSONAL ASSISTANCE TO THE LATE CONGOLESE (PRESIDENT LAURENT KABILA) WHO WAS ASSASSINATED BY HIS BODY GUARD ON 16TH JAN. 2001.\\n\\n\\nTHE INCIDENT OCCURRED IN OUR PRESENCE WHILE WE WERE HOLDING MEETING WITH HIS EXCELLENCY OVER THE FINANCIAL RETURNS FROM THE DIAMOND SALES IN THE AREAS CONTROLLED BY (D.R.C.) DEMOCRATIC REPUBLIC OF CONGO FORCES AND THEIR FOREIGN ALLIES ANGOLA AND ZIMBABWE, HAVING RECEIVED THE PREVIOUS DAY (USD$100M) ONE HUNDRED MILLION UNITED STATES DOLLARS, CASH IN THREE DIPLOMATIC BOXES ROUTED THROUGH ZIMBABWE.\\n\\nMY PURPOSE OF WRITING YOU THIS LETTER IS TO SOLICIT FOR YOUR ASSISTANCE AS TO BE A COVER TO THE FUND AND ALSO COLLABORATION IN MOVING THE SAID FUND INTO YOUR BANK ACCOUNT THE SUM OF (USD$25M) TWENTY FIVE MILLION UNITED STATES DOLLARS ONLY, WHICH I DEPOSITED WITH A SECURITY COMPANY IN GHANA, IN A DIPLOMATIC BOX AS GOLDS WORTH (USD$25M) TWENTY FIVE MILLION UNITED STATES DOLLARS ONLY FOR SAFE KEEPING IN A SECURITY VAULT FOR ANY FURTHER INVESTMENT PERHAPS IN YOUR COUNTRY. \\n\\nYOU WERE INTRODUCED TO ME BY A RELIABLE FRIEND OF MINE WHO IS A TRAVELLER,AND ALSO A MEMBER OF CHAMBER OF COMMERCE AS A RELIABLE AND TRUSTWORTHY PERSON WHOM I CAN RELY ON AS FOREIGN PARTNER, EVEN THOUGH THE NATURE OF THE TRANSACTION WAS NOT REVEALED TO HIM FOR SECURITY REASONS.\\n\\n\\nTHE (USD$25M) WAS PART OF A PROCEEDS FROM DIAMOND TRADE MEANT FOR THE LATE PRESIDENT LAURENT KABILA WHICH WAS DELIVERED THROUGH ZIMBABWE IN DIPLOMATIC BOXES. THE BOXES WERE KEPT UNDER MY CUSTODY BEFORE THE SAD EVENT THAT TOOK THE LIFE OF (MR. PRESIDENT).THE CONFUSION THAT ENSUED AFTER THE ASSASSINATION AND THE SPORADIC SHOOTING AMONG THE FACTIONS, I HAVE TO RUN AWAY FROM THE COUNTRY FOR MY DEAR LIFE AS I AM NOT A SOLDIER BUT A CIVIL SERVANT I CROSSED RIVER CONGO TO OTHER SIDE OF CONGO LIBREVILLE FROM THERE I MOVED TO THE THIRD COUNTRY GHANA WHERE I AM PRESENTLY TAKING REFUGE. \\n\\nAS A MATTER OF FACT, WHAT I URGENTLY NEEDED FROM YOU IS YOUR ASSISTANCE IN MOVING THIS MONEY INTO YOUR ACCOUNT IN YOUR COUNTRY FOR INVESTMENT WITHOUT RAISING EYEBROW. FOR YOUR ASSISTANCE I WILL GIVE YOU 20% OF THE TOTAL SUM AS YOUR OWN SHARE WHEN THE MONEY GETS TO YOUR ACCOUNT, WHILE 75% WILL BE FOR ME, OF WHICH WITH YOUR KIND ADVICE I HOPE TO INVEST IN PROFITABLE VENTURE IN YOUR COUNTRY IN OTHER TO SETTLE DOWN FOR MEANINGFUL LIFE, AS I AM TIRED OF LIVING IN A WAR ENVIRONMENT. \\n\\nTHE REMAINING 5% WILL BE USED TO OFFSET ANY COST INCURRED IN THE CAUSE OF MOVING THE MONEY TO YOUR ACCOUNT. IF THE PROPOSAL IS ACCEPTABLE TO YOU PLEASE CONTACT ME IMMEDIATELY THROUGH THE ABOVE TELEPHONE AND E-MAIL, TO ENABLE ME ARRANGE FACE TO FACE MEETING WITH YOU IN GHANA FOR THE CLEARANCE OF THE FUNDS BEFORE TRANSFRING IT TO YOUR BANK ACCOUNT AS SEEING IS BELIEVING. \\n\\nFINALLY, IT IS IMPORTANT ALSO THAT I LET YOU UNDERSTAND THAT THERE IS NO RISK INVOLVED WHATSOEVER AS THE MONEY HAD NO RECORD IN KINSHASA FOR IT WAS MEANT FOR THE PERSONAL USE OF (MR. PRESIDEND ) BEFORE THE NEFARIOUS INCIDENT OCCURRED, AND ALSO I HAVE ALL THE NECESSARY DOCUMENTS AS REGARDS TO THE FUNDS INCLUDING THE (CERTIFICATE OF DEPOSIT), AS I AM THE DEPOSITOR OF THE CONSIGNMENT.\\n\\n\\nLOOKING FORWARD TO YOUR URGENT RESPONSE.\\n\\nYOUR SINCERELY,\\n\\nMR. JAMES NGOLA. \\n\\n\\n\\n\\n\\n\\n\\n\\n\\n\\n'"
            ]
          },
          "metadata": {
            "tags": []
          },
          "execution_count": 92
        }
      ]
    },
    {
      "cell_type": "markdown",
      "metadata": {
        "id": "Yl-BMduNBLHJ"
      },
      "source": [
        "### 使用正規表達式對email資料進行處理\n",
        "這裡我們會使用到python其他的套件協助處理(ex: pandas, email, etc)，這裡我們只需要專注在正規表達式上即可，其他的套件是方便我們整理與處理資料。"
      ]
    },
    {
      "cell_type": "markdown",
      "metadata": {
        "id": "kqCacQ9tBLHJ"
      },
      "source": [
        "### 讀取與切分Email\n",
        "讀入的email為一個長字串，利用正規表達式切割讀入的資料成一封一封的email，並將結果以list表示。\n",
        "\n",
        "輸出: [email_1, email_2, email_3, ....]"
      ]
    },
    {
      "cell_type": "code",
      "metadata": {
        "id": "k9BCVTqoBLHK"
      },
      "source": [
        "import re\n",
        "import pandas as pd\n",
        "import email\n",
        "\n",
        "###讀取文本資料:fradulent_emails.txt###\n",
        "#<your code>#\n",
        "data_path2 = '/content/gdrive/My Drive/Colab Notebooks/NLP/fradulent_emails.txt'\n",
        "# file = open(data_path2)\n",
        "# encoding is for ANSI code\n",
        "with open(data_path2, 'r', encoding='ISO-8859-1') as f:\n",
        "  txt = f.read()\n",
        "txt"
      ],
      "execution_count": null,
      "outputs": []
    },
    {
      "cell_type": "code",
      "metadata": {
        "id": "n21zaNJsPLjP",
        "colab": {
          "base_uri": "https://localhost:8080/"
        },
        "outputId": "06803c63-6762-4958-ae54-1fe445299fa1"
      },
      "source": [
        "###切割讀入的資料成一封一封的email###\r\n",
        "pattern_fraud = r'(From r )'\r\n",
        "match2 = re.split(pattern_fraud, txt)\r\n",
        "###我們可以使用list來儲存每一封email###\r\n",
        "emails = []\r\n",
        "for ma in match2:\r\n",
        "  if ma == (''):\r\n",
        "    continue\r\n",
        "  elif ma ==('From r '):\r\n",
        "    continue\r\n",
        "  else:\r\n",
        "    emails.append(ma)\r\n",
        "\r\n",
        "###注意！這裡請仔細觀察sample資料，看資料是如何切分不同email###\r\n",
        "#<your code>#\r\n",
        "\r\n",
        "len(emails) #查看有多少封email\r\n"
      ],
      "execution_count": 99,
      "outputs": [
        {
          "output_type": "execute_result",
          "data": {
            "text/plain": [
              "3976"
            ]
          },
          "metadata": {
            "tags": []
          },
          "execution_count": 99
        }
      ]
    },
    {
      "cell_type": "markdown",
      "metadata": {
        "id": "e9IN-2o0BLHM"
      },
      "source": [
        "### 從文本中擷取所有寄件者與收件者的姓名和地址"
      ]
    },
    {
      "cell_type": "code",
      "metadata": {
        "colab": {
          "base_uri": "https://localhost:8080/"
        },
        "id": "gBSUCPB2OrRm",
        "outputId": "6bef3001-e02e-4296-8045-1ac87020dfb0"
      },
      "source": [
        "test = emails[0]\r\n",
        "# print(test)\r\n",
        "pattern_send = r'From: \"(.*)\" <(.*)>'\r\n",
        "sender = re.search(pattern_send, test)\r\n",
        "print(f'sender: {sender.group(1)}; sender email: {sender.group(2)}')\r\n",
        "pattern_receive = r'\\nTo: (.*)'\r\n",
        "receiver = re.search(pattern_receive, test)\r\n",
        "print(f'receiver: {receiver.group(1)}')\r\n",
        "pattern_date = r'\\nDate: (.*)'\r\n",
        "date = re.search(pattern_date, test)\r\n",
        "print(f'date: {date.group(1)}')\r\n",
        "pattern_sub =  r'\\nSubject: (.*)'\r\n",
        "sub = re.search(pattern_sub, test)\r\n",
        "print(f'Subject: {sub.group(1)}')"
      ],
      "execution_count": 141,
      "outputs": [
        {
          "output_type": "stream",
          "text": [
            "sender: MR. JAMES NGOLA.; sender email: james_ngola2002@maktoob.com\n",
            "receiver: webmaster@aclweb.org\n",
            "date: Thu, 31 Oct 2002 02:38:20 +0000\n",
            "Subject: URGENT BUSINESS ASSISTANCE AND PARTNERSHIP\n"
          ],
          "name": "stdout"
        }
      ]
    },
    {
      "cell_type": "code",
      "metadata": {
        "id": "d_WRYFpcBLHM"
      },
      "source": [
        "emails_list = [] #創建空list來儲存所有email資訊\n",
        "\n",
        "for mail in emails[:20]: #只取前20筆資料 (處理速度比較快)\n",
        "    emails_dict = dict() #創建空字典儲存資訊\n",
        "    ###取的寄件者姓名與地址###\n",
        "    \n",
        "    #Step1: 取的寄件者資訊 (hint: From:)\n",
        "    pattern_send = r'From: \"(.*)\" <(.*)>'\n",
        "    #Step2: 取的姓名與地址 (hint: 要注意有時會有沒取到配對的情況)\n",
        "    sender = re.search(pattern_send, mail)\n",
        "    #Step3: 將取得的姓名與地址存入字典中\n",
        "    if sender == None:\n",
        "      emails_dict[\"Sender's name\"] = None\n",
        "      emails_dict[\"Sender's mail\"] = None\n",
        "    else:\n",
        "      emails_dict[\"Sender's name\"] = sender.group(1)\n",
        "      emails_dict[\"Sender's mail\"] = sender.group(2)    \n",
        "    \n",
        "    ###取的收件者姓名與地址###\n",
        "    #Step1: 取的寄件者資訊 (hint: To:)    \n",
        "    #Step2: 取的姓名與地址 (hint: 要注意有時會有沒取到配對的情況)       \n",
        "    #Step3: 將取得的姓名與地址存入字典中\n",
        "    pattern_receive = r'\\nTo: (.*)'\n",
        "    receiver = re.search(pattern_receive, mail)\n",
        "    if receiver == None:\n",
        "      emails_dict[\"Receiver's mail\"] = None\n",
        "    else:\n",
        "      emails_dict[\"Receiver's mail\"] = receiver.group(1)    \n",
        "        \n",
        "    ###取得信件日期###\n",
        "    #Step1: 取得日期資訊 (hint: To:)\n",
        "    #Step2: 取得詳細日期(只需取得DD MMM YYYY)\n",
        "    #Step3: 將取得的日期資訊存入字典中\n",
        "    pattern_date = r'\\nDate: (.*)'\n",
        "    date = re.search(pattern_date, mail)\n",
        "    # print(f'date: {date.group(1)}')\n",
        "    if date == None:\n",
        "      emails_dict[\"Date\"] = None\n",
        "    else:\n",
        "      emails_dict[\"Date\"] = date.group(1) \n",
        "    ###取得信件主旨###\n",
        "    #Step1: 取得主旨資訊 (hint: Subject:)\n",
        "    #Step2: 移除不必要文字 (hint: Subject: )\n",
        "    #Step3: 將取得的主旨存入字典中\n",
        "    pattern_sub =  r'\\nSubject: (.*)'\n",
        "    sub = re.search(pattern_sub, mail)\n",
        "    # print(f'Subject: {sub.group(1)}')\n",
        "    if sub == None:\n",
        "      emails_dict[\"Subject\"] = None\n",
        "    else:\n",
        "      emails_dict[\"Subject\"] = sub.group(1) \n",
        "    ###取得信件內文###\n",
        "    #這裡我們使用email package來取出email內文 (可以不需深究，本章節重點在正規表達式)\n",
        "    try:\n",
        "        full_email = email.message_from_string(mail)\n",
        "        body = full_email.get_payload()\n",
        "        emails_dict[\"email_body\"] = body\n",
        "    except:\n",
        "        emails_dict[\"email_body\"] = None\n",
        "    \n",
        "    ###將字典加入list###\n",
        "    #<your code>#\n",
        "    emails_list.append(emails_dict)\n",
        "# emails_list"
      ],
      "execution_count": 161,
      "outputs": []
    },
    {
      "cell_type": "code",
      "metadata": {
        "id": "CBfQRiYPBLHP",
        "colab": {
          "base_uri": "https://localhost:8080/",
          "height": 1000
        },
        "outputId": "64909e19-0665-4ab4-abc5-39e433ccf892"
      },
      "source": [
        "#將處理結果轉化為dataframe\n",
        "emails_df = pd.DataFrame(emails_list)\n",
        "emails_df"
      ],
      "execution_count": 162,
      "outputs": [
        {
          "output_type": "execute_result",
          "data": {
            "text/html": [
              "<div>\n",
              "<style scoped>\n",
              "    .dataframe tbody tr th:only-of-type {\n",
              "        vertical-align: middle;\n",
              "    }\n",
              "\n",
              "    .dataframe tbody tr th {\n",
              "        vertical-align: top;\n",
              "    }\n",
              "\n",
              "    .dataframe thead th {\n",
              "        text-align: right;\n",
              "    }\n",
              "</style>\n",
              "<table border=\"1\" class=\"dataframe\">\n",
              "  <thead>\n",
              "    <tr style=\"text-align: right;\">\n",
              "      <th></th>\n",
              "      <th>Sender's name</th>\n",
              "      <th>Sender's mail</th>\n",
              "      <th>Receiver's mail</th>\n",
              "      <th>Date</th>\n",
              "      <th>Subject</th>\n",
              "      <th>email_body</th>\n",
              "    </tr>\n",
              "  </thead>\n",
              "  <tbody>\n",
              "    <tr>\n",
              "      <th>0</th>\n",
              "      <td>MR. JAMES NGOLA.</td>\n",
              "      <td>james_ngola2002@maktoob.com</td>\n",
              "      <td>webmaster@aclweb.org</td>\n",
              "      <td>Thu, 31 Oct 2002 02:38:20 +0000</td>\n",
              "      <td>URGENT BUSINESS ASSISTANCE AND PARTNERSHIP</td>\n",
              "      <td>FROM:MR. JAMES NGOLA.\\nCONFIDENTIAL TEL: 233-2...</td>\n",
              "    </tr>\n",
              "    <tr>\n",
              "      <th>1</th>\n",
              "      <td>Mr. Ben Suleman</td>\n",
              "      <td>bensul2004nng@spinfinder.com</td>\n",
              "      <td>R@M</td>\n",
              "      <td>Thu, 31 Oct 2002 05:10:00</td>\n",
              "      <td>URGENT ASSISTANCE /RELATIONSHIP (P)</td>\n",
              "      <td>Dear Friend,\\n\\nI am Mr. Ben Suleman a custom ...</td>\n",
              "    </tr>\n",
              "    <tr>\n",
              "      <th>2</th>\n",
              "      <td>PRINCE OBONG ELEME</td>\n",
              "      <td>obong_715@epatra.com</td>\n",
              "      <td>webmaster@aclweb.org</td>\n",
              "      <td>Thu, 31 Oct 2002 22:17:55 +0100</td>\n",
              "      <td>GOOD DAY TO YOU</td>\n",
              "      <td>FROM HIS ROYAL MAJESTY (HRM) CROWN RULER OF EL...</td>\n",
              "    </tr>\n",
              "    <tr>\n",
              "      <th>3</th>\n",
              "      <td>PRINCE OBONG ELEME</td>\n",
              "      <td>obong_715@epatra.com</td>\n",
              "      <td>webmaster@aclweb.org</td>\n",
              "      <td>Thu, 31 Oct 2002 22:44:20</td>\n",
              "      <td>GOOD DAY TO YOU</td>\n",
              "      <td>FROM HIS ROYAL MAJESTY (HRM) CROWN RULER OF EL...</td>\n",
              "    </tr>\n",
              "    <tr>\n",
              "      <th>4</th>\n",
              "      <td>Maryam Abacha</td>\n",
              "      <td>m_abacha03@www.com</td>\n",
              "      <td>R@M</td>\n",
              "      <td>Fri, 1 Nov 2002 01:45:04 +0100</td>\n",
              "      <td>I Need Your Assistance.</td>\n",
              "      <td>Dear sir, \\n \\nIt is with a heart full of hope...</td>\n",
              "    </tr>\n",
              "    <tr>\n",
              "      <th>5</th>\n",
              "      <td>None</td>\n",
              "      <td>None</td>\n",
              "      <td>davidkuta@yahoo.com</td>\n",
              "      <td>Sat, 02 Nov 2002 06:23:11 +0000</td>\n",
              "      <td>Partnership</td>\n",
              "      <td>ATTENTION:                                    ...</td>\n",
              "    </tr>\n",
              "    <tr>\n",
              "      <th>6</th>\n",
              "      <td>Barrister tunde dosumu</td>\n",
              "      <td>tunde_dosumu@lycos.com</td>\n",
              "      <td>None</td>\n",
              "      <td>None</td>\n",
              "      <td>Urgent Attention</td>\n",
              "      <td>Dear Sir,\\n\\nI am Barrister Tunde Dosumu (SAN)...</td>\n",
              "    </tr>\n",
              "    <tr>\n",
              "      <th>7</th>\n",
              "      <td>William Drallo</td>\n",
              "      <td>william2244drallo@maktoob.com</td>\n",
              "      <td>webmaster@aclweb.org</td>\n",
              "      <td>Sun, 3 Nov 2002 23:56:20 +0000</td>\n",
              "      <td>URGENT BUSINESS PRPOSAL</td>\n",
              "      <td>FROM: WILLIAM DRALLO.\\nCONFIDENTIAL TEL: 233-2...</td>\n",
              "    </tr>\n",
              "    <tr>\n",
              "      <th>8</th>\n",
              "      <td>MR USMAN ABDUL</td>\n",
              "      <td>abdul_817@rediffmail.com</td>\n",
              "      <td>R@M</td>\n",
              "      <td>Mon, 04 Nov 2002 23:41:26</td>\n",
              "      <td>THANK YOU</td>\n",
              "      <td>CHALLENGE SECURITIES LTD.\\nLAGOS, NIGERIA\\n\\n\\...</td>\n",
              "    </tr>\n",
              "    <tr>\n",
              "      <th>9</th>\n",
              "      <td>Tunde  Dosumu</td>\n",
              "      <td>barrister_td@lycos.com</td>\n",
              "      <td>None</td>\n",
              "      <td>None</td>\n",
              "      <td>Urgent Assistance</td>\n",
              "      <td>Dear Sir,\\n\\nI am Barrister Tunde Dosumu (SAN)...</td>\n",
              "    </tr>\n",
              "    <tr>\n",
              "      <th>10</th>\n",
              "      <td>None</td>\n",
              "      <td>None</td>\n",
              "      <td>R@E</td>\n",
              "      <td>Tue, 6 Nov 2001 16:52:34 -0000</td>\n",
              "      <td>IMPORTANT</td>\n",
              "      <td>FROM: MR TEMI JOHNSON\\nDEMOCRATIC REPUBLIC OF ...</td>\n",
              "    </tr>\n",
              "    <tr>\n",
              "      <th>11</th>\n",
              "      <td>Dr.Sam jordan</td>\n",
              "      <td>sjordan@diplomats.com</td>\n",
              "      <td>R@M</td>\n",
              "      <td>Fri, 08 Nov 2002 04:15:33</td>\n",
              "      <td>URGENT ASSISTANCE.</td>\n",
              "      <td>FROM THE DESK OF DR.SAM JORDAN\\nTHE MANAGER\\nH...</td>\n",
              "    </tr>\n",
              "    <tr>\n",
              "      <th>12</th>\n",
              "      <td>None</td>\n",
              "      <td>None</td>\n",
              "      <td>webmaster@aclweb.org</td>\n",
              "      <td>Fri, 8 Nov 2002 10:12:26 +0100</td>\n",
              "      <td>From: Barrister Peter Brown</td>\n",
              "      <td>\\nSENIOR ADVOCATE OF NIGERIA\\nBARR. PETER BROW...</td>\n",
              "    </tr>\n",
              "    <tr>\n",
              "      <th>13</th>\n",
              "      <td>None</td>\n",
              "      <td>None</td>\n",
              "      <td>R@M</td>\n",
              "      <td>Mon, 11 Nov 2002 17:26:54 +0100</td>\n",
              "      <td>MICHAEL</td>\n",
              "      <td>From;Mr.Michael Kamah and Family,\\n          J...</td>\n",
              "    </tr>\n",
              "    <tr>\n",
              "      <th>14</th>\n",
              "      <td>COL. MICHAEL BUNDU</td>\n",
              "      <td>mikebunduu1@rediffmail.com</td>\n",
              "      <td>R@E</td>\n",
              "      <td>Tue, 13 Nov 2001 16:10:50 -0000</td>\n",
              "      <td>*****SPAM***** IMPORTANT</td>\n",
              "      <td>FROM: COL. MICHAEL BUNDU. \\nDEMOCRATIC REPUBLI...</td>\n",
              "    </tr>\n",
              "    <tr>\n",
              "      <th>15</th>\n",
              "      <td>MRS MARIAM ABACHA</td>\n",
              "      <td>elixwilliam@usa.com</td>\n",
              "      <td>webmaster@aclweb.org</td>\n",
              "      <td>Thu, 14 Nov 2002 16:46:11 +0100</td>\n",
              "      <td>TRUST TRANSACTION</td>\n",
              "      <td>Dear Sir,\\n\\nA Very Good day to you   \\n\\nI am...</td>\n",
              "    </tr>\n",
              "    <tr>\n",
              "      <th>16</th>\n",
              "      <td>DR. ANAYO AWKA</td>\n",
              "      <td>anayoawka@hotmail.com</td>\n",
              "      <td>webmaster@aclweb.org</td>\n",
              "      <td>Fri, 15 Nov 2002 00:40:13</td>\n",
              "      <td>REQUEST FOR YOUR UNRESERVED ASSISTANCE</td>\n",
              "      <td>FROM: DR. ANAYO AWKA BANK MANAGER \\n(UNION BAN...</td>\n",
              "    </tr>\n",
              "    <tr>\n",
              "      <th>17</th>\n",
              "      <td>DR. ANAYO AWKA</td>\n",
              "      <td>anayoawka@hotmail.com</td>\n",
              "      <td>webmaster@aclweb.org</td>\n",
              "      <td>Fri, 15 Nov 2002 01:18:50</td>\n",
              "      <td>REQUEST FOR YOUR UNRESERVED ASSISTANCE</td>\n",
              "      <td>FROM: DR. ANAYO AWKA BANK MANAGER \\n(UNION BAN...</td>\n",
              "    </tr>\n",
              "    <tr>\n",
              "      <th>18</th>\n",
              "      <td>Victor Aloma</td>\n",
              "      <td>victorloma@netscape.net</td>\n",
              "      <td>ntcir-listmem@newns.op.nii.ac.jp</td>\n",
              "      <td>Sat, 16 Nov 2002 14:06:46</td>\n",
              "      <td>Urgent Assistance</td>\n",
              "      <td>The Director,\\n\\n\\n\\n            SEEKING FOR I...</td>\n",
              "    </tr>\n",
              "    <tr>\n",
              "      <th>19</th>\n",
              "      <td>Victor Aloma</td>\n",
              "      <td>victorloma@netscape.net</td>\n",
              "      <td>ntcir-outgoing@nii.ac.jp</td>\n",
              "      <td>Sat, 16 Nov 2002 14:06:54</td>\n",
              "      <td>Urgent Assistance</td>\n",
              "      <td>The Director,\\n\\n\\n\\n            SEEKING FOR I...</td>\n",
              "    </tr>\n",
              "  </tbody>\n",
              "</table>\n",
              "</div>"
            ],
            "text/plain": [
              "             Sender's name  ...                                         email_body\n",
              "0         MR. JAMES NGOLA.  ...  FROM:MR. JAMES NGOLA.\\nCONFIDENTIAL TEL: 233-2...\n",
              "1          Mr. Ben Suleman  ...  Dear Friend,\\n\\nI am Mr. Ben Suleman a custom ...\n",
              "2       PRINCE OBONG ELEME  ...  FROM HIS ROYAL MAJESTY (HRM) CROWN RULER OF EL...\n",
              "3       PRINCE OBONG ELEME  ...  FROM HIS ROYAL MAJESTY (HRM) CROWN RULER OF EL...\n",
              "4            Maryam Abacha  ...  Dear sir, \\n \\nIt is with a heart full of hope...\n",
              "5                     None  ...  ATTENTION:                                    ...\n",
              "6   Barrister tunde dosumu  ...  Dear Sir,\\n\\nI am Barrister Tunde Dosumu (SAN)...\n",
              "7           William Drallo  ...  FROM: WILLIAM DRALLO.\\nCONFIDENTIAL TEL: 233-2...\n",
              "8           MR USMAN ABDUL  ...  CHALLENGE SECURITIES LTD.\\nLAGOS, NIGERIA\\n\\n\\...\n",
              "9            Tunde  Dosumu  ...  Dear Sir,\\n\\nI am Barrister Tunde Dosumu (SAN)...\n",
              "10                    None  ...  FROM: MR TEMI JOHNSON\\nDEMOCRATIC REPUBLIC OF ...\n",
              "11           Dr.Sam jordan  ...  FROM THE DESK OF DR.SAM JORDAN\\nTHE MANAGER\\nH...\n",
              "12                    None  ...  \\nSENIOR ADVOCATE OF NIGERIA\\nBARR. PETER BROW...\n",
              "13                    None  ...  From;Mr.Michael Kamah and Family,\\n          J...\n",
              "14      COL. MICHAEL BUNDU  ...  FROM: COL. MICHAEL BUNDU. \\nDEMOCRATIC REPUBLI...\n",
              "15       MRS MARIAM ABACHA  ...  Dear Sir,\\n\\nA Very Good day to you   \\n\\nI am...\n",
              "16         DR. ANAYO AWKA   ...  FROM: DR. ANAYO AWKA BANK MANAGER \\n(UNION BAN...\n",
              "17         DR. ANAYO AWKA   ...  FROM: DR. ANAYO AWKA BANK MANAGER \\n(UNION BAN...\n",
              "18            Victor Aloma  ...  The Director,\\n\\n\\n\\n            SEEKING FOR I...\n",
              "19            Victor Aloma  ...  The Director,\\n\\n\\n\\n            SEEKING FOR I...\n",
              "\n",
              "[20 rows x 6 columns]"
            ]
          },
          "metadata": {
            "tags": []
          },
          "execution_count": 162
        }
      ]
    }
  ]
}